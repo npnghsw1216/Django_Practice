{
 "cells": [
  {
   "cell_type": "code",
   "execution_count": 1,
   "id": "c0bf682d",
   "metadata": {},
   "outputs": [],
   "source": [
    "import os\n",
    "\n",
    "os.environ[\"DJANGO_SETTINGS_MODULE\"] = \"mydjango23.settings\"\n",
    "os.environ[\"DJANGO_ALLOW_ASYNC_UNSAFE\"] = \"true\"\n",
    "\n",
    "import django\n",
    "django.setup()"
   ]
  },
  {
   "cell_type": "code",
   "execution_count": 2,
   "id": "8846dbd6",
   "metadata": {},
   "outputs": [],
   "source": [
    "from blog.models import Post"
   ]
  },
  {
   "cell_type": "code",
   "execution_count": 3,
   "id": "7c128933",
   "metadata": {},
   "outputs": [
    {
     "data": {
      "text/plain": [
       "<dataset object>"
      ]
     },
     "execution_count": 3,
     "metadata": {},
     "output_type": "execute_result"
    }
   ],
   "source": [
    "import tablib\n",
    "\n",
    "dataset = tablib.Dataset()\n",
    "dataset.headers = [\"id\", \"제목\", \"생성일시\", \"수정일시\"]\n",
    "dataset"
   ]
  },
  {
   "cell_type": "code",
   "execution_count": 4,
   "id": "6f9ca48d",
   "metadata": {},
   "outputs": [],
   "source": [
    "for post in Post.objects.all():\n",
    "    dataset.append([\n",
    "        post.id,\n",
    "        post.title,\n",
    "        # tzinfo가 있는 datetime 객체는 tablib에서 변호나이 현재 지원되지 않아\n",
    "        # 문자열로 변환을 하겠습니다.\n",
    "        post.created_at.strftime(\"%Y-%m-%d%H:%M:%S\"),\n",
    "        post.updated_at.strftime(\"%Y-%m-%d%H:%M:%S\"),\n",
    "    ])"
   ]
  },
  {
   "cell_type": "code",
   "execution_count": 5,
   "id": "e8809dc4",
   "metadata": {},
   "outputs": [],
   "source": [
    "xlsx_data:bytes =dataset.export(\"xlsx\")\n",
    "    \n",
    "with open(\"포스팅 내역.xlsx\",'wb') as f:\n",
    "    f.write(xlsx_data)\n",
    "# 이 이름의 파일을 만들겠다. 이렇게만 쓰면? 주피터를 구동한 현재 경로에 생성됨\n",
    "# 'wb'은 write(새롭게 생성), binary(bytes)"
   ]
  },
  {
   "cell_type": "code",
   "execution_count": 6,
   "id": "f4677386",
   "metadata": {},
   "outputs": [
    {
     "data": {
      "text/plain": [
       "'[{\"id\": 5, \"제목\": \"물병자리 (Aquarius\", \"생성일시\": \"2021-12-1505:41:18\", \"수정일시\": \"2021-12-1505:46:02\"}, {\"id\": 1, \"제목\": \"파이썬 기초 문법\", \"생성일시\": \"2021-12-1502:17:13\", \"수정일시\": \"2021-12-1506:00:59\"}]'"
      ]
     },
     "execution_count": 6,
     "metadata": {},
     "output_type": "execute_result"
    }
   ],
   "source": [
    "dataset.export(\"json\")"
   ]
  },
  {
   "cell_type": "code",
   "execution_count": null,
   "id": "3e125d4a",
   "metadata": {},
   "outputs": [],
   "source": []
  }
 ],
 "metadata": {
  "kernelspec": {
   "display_name": "Python 3 (ipykernel)",
   "language": "python",
   "name": "python3"
  },
  "language_info": {
   "codemirror_mode": {
    "name": "ipython",
    "version": 3
   },
   "file_extension": ".py",
   "mimetype": "text/x-python",
   "name": "python",
   "nbconvert_exporter": "python",
   "pygments_lexer": "ipython3",
   "version": "3.10.0"
  }
 },
 "nbformat": 4,
 "nbformat_minor": 5
}
