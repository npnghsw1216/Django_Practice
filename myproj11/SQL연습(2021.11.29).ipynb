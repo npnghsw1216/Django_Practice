{
 "cells": [
  {
   "cell_type": "code",
   "execution_count": 3,
   "id": "ebef722c",
   "metadata": {},
   "outputs": [],
   "source": [
    "import xlwings"
   ]
  },
  {
   "cell_type": "code",
   "execution_count": 4,
   "id": "47250c04",
   "metadata": {},
   "outputs": [
    {
     "data": {
      "text/plain": [
       "Sheets([<Sheet [통합 문서1]Sheet1>])"
      ]
     },
     "execution_count": 4,
     "metadata": {},
     "output_type": "execute_result"
    }
   ],
   "source": [
    "xlwings.sheets"
   ]
  },
  {
   "cell_type": "code",
   "execution_count": 5,
   "id": "0d18601e",
   "metadata": {},
   "outputs": [
    {
     "data": {
      "text/plain": [
       "<Range [통합 문서1]Sheet1!$A$1>"
      ]
     },
     "execution_count": 5,
     "metadata": {},
     "output_type": "execute_result"
    }
   ],
   "source": [
    "xlwings.Range(\"A1\")"
   ]
  },
  {
   "cell_type": "code",
   "execution_count": 6,
   "id": "eea7cd6b",
   "metadata": {},
   "outputs": [
    {
     "data": {
      "text/plain": [
       "<Range [통합 문서1]Sheet1!$A$1:$B$8>"
      ]
     },
     "execution_count": 6,
     "metadata": {},
     "output_type": "execute_result"
    }
   ],
   "source": [
    "xlwings.Range(\"A1\").expand()"
   ]
  },
  {
   "cell_type": "code",
   "execution_count": 10,
   "id": "23e2a15b",
   "metadata": {},
   "outputs": [
    {
     "data": {
      "text/plain": [
       "[['message ', 'browser'],\n",
       " ['첫 로그', 'chrome'],\n",
       " ['두번째 로그', 'chrome'],\n",
       " ['세번째 로그', 'chrome'],\n",
       " ['로그 #4', 'chrome'],\n",
       " ['로그#5', 'chrome'],\n",
       " ['로그 #4', 'chrome'],\n",
       " ['로그 #4', 'chrome']]"
      ]
     },
     "execution_count": 10,
     "metadata": {},
     "output_type": "execute_result"
    }
   ],
   "source": [
    "total_rows = xlwings.Range(\"A1\").expand().value\n",
    "total_rows"
   ]
  },
  {
   "cell_type": "code",
   "execution_count": 11,
   "id": "b7975611",
   "metadata": {},
   "outputs": [
    {
     "data": {
      "text/plain": [
       "['message ', 'browser']"
      ]
     },
     "execution_count": 11,
     "metadata": {},
     "output_type": "execute_result"
    }
   ],
   "source": [
    "column_names = total_rows[0]\n",
    "column_names"
   ]
  },
  {
   "cell_type": "code",
   "execution_count": 14,
   "id": "f8956d45",
   "metadata": {},
   "outputs": [
    {
     "name": "stdout",
     "output_type": "stream",
     "text": [
      "{'message ': '첫 로그', 'browser': 'chrome'}\n",
      "{'message ': '두번째 로그', 'browser': 'chrome'}\n",
      "{'message ': '세번째 로그', 'browser': 'chrome'}\n",
      "{'message ': '로그 #4', 'browser': 'chrome'}\n",
      "{'message ': '로그#5', 'browser': 'chrome'}\n",
      "{'message ': '로그 #4', 'browser': 'chrome'}\n",
      "{'message ': '로그 #4', 'browser': 'chrome'}\n"
     ]
    }
   ],
   "source": [
    "for row in total_rows[1:]:\n",
    "    row_dict = dict(zip(column_names, row))\n",
    "    print(row_dict)"
   ]
  },
  {
   "cell_type": "code",
   "execution_count": 16,
   "id": "4b70d73d",
   "metadata": {},
   "outputs": [
    {
     "data": {
      "text/plain": [
       "[{'message ': '첫 로그', 'browser': 'chrome'},\n",
       " {'message ': '두번째 로그', 'browser': 'chrome'},\n",
       " {'message ': '세번째 로그', 'browser': 'chrome'},\n",
       " {'message ': '로그 #4', 'browser': 'chrome'},\n",
       " {'message ': '로그#5', 'browser': 'chrome'},\n",
       " {'message ': '로그 #4', 'browser': 'chrome'},\n",
       " {'message ': '로그 #4', 'browser': 'chrome'}]"
      ]
     },
     "execution_count": 16,
     "metadata": {},
     "output_type": "execute_result"
    }
   ],
   "source": [
    "# list comprehension\n",
    "\n",
    "rows_data=[\n",
    "    dict(zip(column_names, row))\n",
    "    for row in total_rows[1:]\n",
    "]\n",
    "rows_data"
   ]
  },
  {
   "cell_type": "markdown",
   "id": "c7e0a2c9",
   "metadata": {},
   "source": [
    "# 정리"
   ]
  },
  {
   "cell_type": "code",
   "execution_count": 18,
   "id": "5614cd3e",
   "metadata": {},
   "outputs": [
    {
     "data": {
      "text/plain": [
       "[{'message ': '첫 로그', 'browser': 'chrome'},\n",
       " {'message ': '두번째 로그', 'browser': 'chrome'},\n",
       " {'message ': '세번째 로그', 'browser': 'chrome'},\n",
       " {'message ': '로그 #4', 'browser': 'chrome'},\n",
       " {'message ': '로그#5', 'browser': 'chrome'},\n",
       " {'message ': '로그 #4', 'browser': 'chrome'},\n",
       " {'message ': '로그 #4', 'browser': 'chrome'}]"
      ]
     },
     "execution_count": 18,
     "metadata": {},
     "output_type": "execute_result"
    }
   ],
   "source": [
    "def get_rows_data():\n",
    "    total_rows = xlwings.Range(\"A1\").expand().value\n",
    "    column_names = total_rows[0]\n",
    "    rows_data = [\n",
    "        dict(zip(column_names, row))\n",
    "        for row in total_rows[1:]\n",
    "    ]\n",
    "    return rows_data\n",
    "\n",
    "get_rows_data()"
   ]
  },
  {
   "cell_type": "markdown",
   "id": "f2c0c99e",
   "metadata": {},
   "source": [
    "# 데이터베이스 접속"
   ]
  },
  {
   "cell_type": "code",
   "execution_count": 23,
   "id": "c7f17320",
   "metadata": {},
   "outputs": [],
   "source": [
    "DATABASE = {\n",
    "    \"host\" : \"127.0.0.1\",\n",
    "    \"user\" : \"root\",\n",
    "    \"password\" : \"1234\",\n",
    "    \"db\" : \"myproj11_db\",\n",
    "    'charset' : \"utf8\",\n",
    "}"
   ]
  },
  {
   "cell_type": "code",
   "execution_count": 28,
   "id": "13df992a",
   "metadata": {},
   "outputs": [
    {
     "name": "stdout",
     "output_type": "stream",
     "text": [
      "()\n"
     ]
    }
   ],
   "source": [
    "import pymysql\n",
    "\n",
    "connection = pymysql.connect(**DATABASE)\n",
    "cursor = connection.cursor()\n",
    "cursor.execute(\"SELECT * FROM log\")\n",
    "print(cursor.fetchall())\n",
    "cursor.close()"
   ]
  },
  {
   "cell_type": "markdown",
   "id": "8bce3fb3",
   "metadata": {},
   "source": [
    "# with 절"
   ]
  },
  {
   "cell_type": "code",
   "execution_count": 41,
   "id": "52c96103",
   "metadata": {},
   "outputs": [],
   "source": [
    "import pymysql\n",
    "from contextlib import contextmanager\n",
    "\n",
    "@contextmanager\n",
    "def db_cursor():\n",
    "    connection = pymysql.connect(**DATABASE)\n",
    "    cursor = connection.cursor()\n",
    "    try:\n",
    "        yield cursor\n",
    "    finally:\n",
    "        cursor.close()  "
   ]
  },
  {
   "cell_type": "code",
   "execution_count": 42,
   "id": "84a0e1d8",
   "metadata": {},
   "outputs": [
    {
     "name": "stdout",
     "output_type": "stream",
     "text": [
      "()\n"
     ]
    }
   ],
   "source": [
    "with db_cursor() as cursor:\n",
    "    cursor.execute(\"SELECT*FROM log\")\n",
    "    print(cursor.fetchall())"
   ]
  },
  {
   "cell_type": "markdown",
   "id": "3e19ae95",
   "metadata": {},
   "source": [
    "# Header"
   ]
  },
  {
   "cell_type": "code",
   "execution_count": 46,
   "id": "27bc8b2f",
   "metadata": {},
   "outputs": [
    {
     "ename": "IndentationError",
     "evalue": "expected an indented block after 'for' statement on line 4 (Temp/ipykernel_7184/2748928157.py, line 5)",
     "output_type": "error",
     "traceback": [
      "\u001b[1;36m  File \u001b[1;32m\"C:\\Users\\user\\AppData\\Local\\Temp/ipykernel_7184/2748928157.py\"\u001b[1;36m, line \u001b[1;32m5\u001b[0m\n\u001b[1;33m    sql = \"INSERT INTO LOG(message, browser)VALUES(%(message)s, %(browser)s)\"\u001b[0m\n\u001b[1;37m    ^\u001b[0m\n\u001b[1;31mIndentationError\u001b[0m\u001b[1;31m:\u001b[0m expected an indented block after 'for' statement on line 4\n"
     ]
    }
   ],
   "source": [
    "column_data = {'message ': '로그 #4', 'browser': 'chrome'}\n",
    "\n",
    "with db_cursor()as cursor:\n",
    "    for row in get_rows_data():\n",
    "    sql = \"INSERT INTO LOG(message, browser)VALUES(%(message)s, %(browser)s)\"\n",
    "    cursor.execute(sql, row_dict)"
   ]
  },
  {
   "cell_type": "code",
   "execution_count": 43,
   "id": "0379ff14",
   "metadata": {
    "scrolled": true
   },
   "outputs": [
    {
     "data": {
      "text/plain": [
       "[{'message ': '첫 로그', 'browser': 'chrome'},\n",
       " {'message ': '두번째 로그', 'browser': 'chrome'},\n",
       " {'message ': '세번째 로그', 'browser': 'chrome'},\n",
       " {'message ': '로그 #4', 'browser': 'chrome'},\n",
       " {'message ': '로그#5', 'browser': 'chrome'},\n",
       " {'message ': '로그 #4', 'browser': 'chrome'},\n",
       " {'message ': '로그 #4', 'browser': 'chrome'}]"
      ]
     },
     "execution_count": 43,
     "metadata": {},
     "output_type": "execute_result"
    }
   ],
   "source": [
    "get_rows_data()"
   ]
  },
  {
   "cell_type": "markdown",
   "id": "9d3232c1",
   "metadata": {},
   "source": [
    "# SQL INJECTION공격의 예"
   ]
  },
  {
   "cell_type": "code",
   "execution_count": 69,
   "id": "642f5f52",
   "metadata": {},
   "outputs": [
    {
     "name": "stdout",
     "output_type": "stream",
     "text": [
      "(3, '3로그', 'Chrome')\n"
     ]
    }
   ],
   "source": [
    "with db_cursor() as cursor:\n",
    "    log_id = '3 or 3'\n",
    "    # sql = \"SELECT * FROM LOG WHERE id = \" + str(log_id)\n",
    "    # sql = \"SELECT * FROM LOG WHERE id = 3 or 3\"\n",
    "    sql = \"SELECT * FROM LOG WHERE id = %s\"\n",
    "    cursor.execute(sql, [log_id])\n",
    "#     while True:\n",
    "#         row = cursor.fetchone()\n",
    "#         print(row)\n",
    "#         if row is None:\n",
    "#             break\n",
    "#         print(row)\n",
    "    for row in cursor:\n",
    "        print(row)"
   ]
  },
  {
   "cell_type": "markdown",
   "id": "d3157489",
   "metadata": {},
   "source": [
    "# 데이터 매핑의 예"
   ]
  },
  {
   "cell_type": "code",
   "execution_count": 74,
   "id": "4422fe24",
   "metadata": {},
   "outputs": [
    {
     "data": {
      "text/plain": [
       "((3, '3로그', 'Chrome'), (4, '로그#4', 'Chrome'), (5, '로그#5', 'Chrome'))"
      ]
     },
     "execution_count": 74,
     "metadata": {},
     "output_type": "execute_result"
    }
   ],
   "source": [
    "with db_cursor() as cursor:\n",
    "    cursor.execute(\"SELECT * FROM log\")\n",
    "    rows_data = cursor.fetchall()\n",
    "#     for row in cursor:\n",
    "#         row[0] # id\n",
    "#         row[1] # message\n",
    "#         row[2] #chrome\n",
    "#         print(row)\n",
    "rows_data"
   ]
  },
  {
   "cell_type": "markdown",
   "id": "bcf25378",
   "metadata": {},
   "source": [
    "# dict 으로 변환"
   ]
  },
  {
   "cell_type": "markdown",
   "id": "c2362f23",
   "metadata": {},
   "source": [
    "## namedtuple"
   ]
  },
  {
   "cell_type": "code",
   "execution_count": 92,
   "id": "5a07379e",
   "metadata": {},
   "outputs": [],
   "source": [
    "from collections import namedtuple\n",
    "\n",
    "Log = namedtuple('Log', 'id message browser')"
   ]
  },
  {
   "cell_type": "code",
   "execution_count": 93,
   "id": "249292a0",
   "metadata": {},
   "outputs": [
    {
     "data": {
      "text/plain": [
       "(1, 'message', 'chrome')"
      ]
     },
     "execution_count": 93,
     "metadata": {},
     "output_type": "execute_result"
    }
   ],
   "source": [
    "(1,'message', 'chrome')"
   ]
  },
  {
   "cell_type": "code",
   "execution_count": 94,
   "id": "6fcecf58",
   "metadata": {},
   "outputs": [
    {
     "name": "stdout",
     "output_type": "stream",
     "text": [
      "1\n",
      "message\n",
      "chrome\n"
     ]
    }
   ],
   "source": [
    "log = (1, 'message', 'chrome')\n",
    "print(log[0])\n",
    "print(log[1])\n",
    "print(log[2])"
   ]
  },
  {
   "cell_type": "code",
   "execution_count": 95,
   "id": "067fc77b",
   "metadata": {},
   "outputs": [
    {
     "name": "stdout",
     "output_type": "stream",
     "text": [
      "1\n",
      "message\n",
      "chrome\n"
     ]
    }
   ],
   "source": [
    "print(log[0])\n",
    "print(log[1])\n",
    "print(log[2])"
   ]
  },
  {
   "cell_type": "code",
   "execution_count": 98,
   "id": "6a1dbc58",
   "metadata": {},
   "outputs": [
    {
     "ename": "AttributeError",
     "evalue": "'tuple' object has no attribute 'message'",
     "output_type": "error",
     "traceback": [
      "\u001b[1;31m---------------------------------------------------------------------------\u001b[0m",
      "\u001b[1;31mAttributeError\u001b[0m                            Traceback (most recent call last)",
      "\u001b[1;32m~\\AppData\\Local\\Temp/ipykernel_7184/821346088.py\u001b[0m in \u001b[0;36m<module>\u001b[1;34m\u001b[0m\n\u001b[1;32m----> 1\u001b[1;33m \u001b[0mlog\u001b[0m\u001b[1;33m.\u001b[0m\u001b[0mmessage\u001b[0m\u001b[1;33m,\u001b[0m \u001b[0mlog\u001b[0m\u001b[1;33m.\u001b[0m\u001b[0mbrowser\u001b[0m\u001b[1;33m\u001b[0m\u001b[1;33m\u001b[0m\u001b[0m\n\u001b[0m",
      "\u001b[1;31mAttributeError\u001b[0m: 'tuple' object has no attribute 'message'"
     ]
    }
   ],
   "source": [
    " log.id, log.message, log.browser"
   ]
  },
  {
   "cell_type": "code",
   "execution_count": 81,
   "id": "c1ae31fc",
   "metadata": {},
   "outputs": [
    {
     "data": {
      "text/plain": [
       "((3, '3로그', 'Chrome'), (4, '로그#4', 'Chrome'), (5, '로그#5', 'Chrome'))"
      ]
     },
     "execution_count": 81,
     "metadata": {},
     "output_type": "execute_result"
    }
   ],
   "source": [
    "rows_data"
   ]
  },
  {
   "cell_type": "code",
   "execution_count": 90,
   "id": "7da7118c",
   "metadata": {},
   "outputs": [
    {
     "data": {
      "text/plain": [
       "[Log(id=5, message='로그#5', browser='Chrome'),\n",
       " Log(id=5, message='로그#5', browser='Chrome'),\n",
       " Log(id=5, message='로그#5', browser='Chrome')]"
      ]
     },
     "execution_count": 90,
     "metadata": {},
     "output_type": "execute_result"
    }
   ],
   "source": [
    "with db_cursor() as cursor:\n",
    "    cursor.execute(\"SELECT * FROM log\")\n",
    "    rows_data = [\n",
    "        Log(*row)\n",
    "        for now in cursor.fetchall()]\n",
    "\n",
    "rows_data"
   ]
  },
  {
   "cell_type": "code",
   "execution_count": null,
   "id": "61714622",
   "metadata": {},
   "outputs": [],
   "source": []
  }
 ],
 "metadata": {
  "kernelspec": {
   "display_name": "Python 3 (ipykernel)",
   "language": "python",
   "name": "python3"
  },
  "language_info": {
   "codemirror_mode": {
    "name": "ipython",
    "version": 3
   },
   "file_extension": ".py",
   "mimetype": "text/x-python",
   "name": "python",
   "nbconvert_exporter": "python",
   "pygments_lexer": "ipython3",
   "version": "3.10.0"
  }
 },
 "nbformat": 4,
 "nbformat_minor": 5
}
