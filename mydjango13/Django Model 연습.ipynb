{
 "cells": [
  {
   "cell_type": "code",
   "execution_count": 1,
   "id": "512cbdd3",
   "metadata": {},
   "outputs": [],
   "source": [
    "import os\n",
    "os.environ[\"DJANGO_SETTINGS_MODULE\"] = \"mydjango13.settings\"\n",
    "os.environ[\"DJANGO_ALLOW_ASYNC_UNSAFE\"] = \"true\"\n",
    "\n",
    "import django\n",
    "django.setup()"
   ]
  },
  {
   "cell_type": "code",
   "execution_count": 2,
   "id": "ed7edc8b",
   "metadata": {},
   "outputs": [],
   "source": [
    "from mall.models import Shop"
   ]
  },
  {
   "cell_type": "code",
   "execution_count": 3,
   "id": "68d254eb",
   "metadata": {},
   "outputs": [
    {
     "name": "stderr",
     "output_type": "stream",
     "text": [
      "(0.000) SELECT \"mall_shop\".\"id\", \"mall_shop\".\"name\", \"mall_shop\".\"description\", \"mall_shop\".\"telephone\", \"mall_shop\".\"photo\", \"mall_shop\".\"created_at\", \"mall_shop\".\"updated_at\" FROM \"mall_shop\" ORDER BY \"mall_shop\".\"id\" DESC LIMIT 21; args=()\n"
     ]
    },
    {
     "data": {
      "text/plain": [
       "<QuerySet [<Shop: Shop object (5)>, <Shop: Shop object (4)>, <Shop: Shop object (3)>]>"
      ]
     },
     "execution_count": 3,
     "metadata": {},
     "output_type": "execute_result"
    }
   ],
   "source": [
    "Shop.objects.all()"
   ]
  },
  {
   "cell_type": "code",
   "execution_count": 4,
   "id": "be2441ab",
   "metadata": {},
   "outputs": [
    {
     "data": {
      "text/plain": [
       "mall.models.Shop"
      ]
     },
     "execution_count": 4,
     "metadata": {},
     "output_type": "execute_result"
    }
   ],
   "source": [
    "Shop"
   ]
  },
  {
   "cell_type": "markdown",
   "id": "da13fe2a",
   "metadata": {},
   "source": [
    "# Create"
   ]
  },
  {
   "cell_type": "code",
   "execution_count": 5,
   "id": "6d04932b",
   "metadata": {},
   "outputs": [],
   "source": [
    "shop = Shop() # FirstShop (o). first_shop(x). firstShop(x). first_Shop(x)\n",
    "shop.name = \"투썸플레이스\"\n",
    "shop.telephone = \" 042-1234-1234\""
   ]
  },
  {
   "cell_type": "code",
   "execution_count": 6,
   "id": "b3319b74",
   "metadata": {},
   "outputs": [
    {
     "name": "stderr",
     "output_type": "stream",
     "text": [
      "(0.000) INSERT INTO \"mall_shop\" (\"name\", \"description\", \"telephone\", \"photo\", \"created_at\", \"updated_at\") VALUES ('투썸플레이스', '', ' 042-1234-1234', '', '2021-12-01 06:40:57.953115', '2021-12-01 06:40:57.953115'); args=['투썸플레이스', '', ' 042-1234-1234', '', '2021-12-01 06:40:57.953115', '2021-12-01 06:40:57.953115']\n"
     ]
    }
   ],
   "source": [
    "shop.save()"
   ]
  },
  {
   "cell_type": "code",
   "execution_count": null,
   "id": "7fe4554a",
   "metadata": {},
   "outputs": [],
   "source": []
  },
  {
   "cell_type": "code",
   "execution_count": 7,
   "id": "0374331d",
   "metadata": {},
   "outputs": [
    {
     "name": "stderr",
     "output_type": "stream",
     "text": [
      "(0.031) INSERT INTO \"mall_shop\" (\"name\", \"description\", \"telephone\", \"photo\", \"created_at\", \"updated_at\") VALUES ('셀프24시빨래방', '', '042-1234-4321', '', '2021-12-01 06:40:57.970073', '2021-12-01 06:40:57.970073'); args=['셀프24시빨래방', '', '042-1234-4321', '', '2021-12-01 06:40:57.970073', '2021-12-01 06:40:57.970073']\n"
     ]
    },
    {
     "data": {
      "text/plain": [
       "<Shop: Shop object (7)>"
      ]
     },
     "execution_count": 7,
     "metadata": {},
     "output_type": "execute_result"
    }
   ],
   "source": [
    "shop = Shop.objects.create(\n",
    "    name = \"셀프24시빨래방\",\n",
    "    telephone = \"042-1234-4321\",\n",
    ")\n",
    "shop"
   ]
  },
  {
   "cell_type": "code",
   "execution_count": null,
   "id": "de84fc8d",
   "metadata": {},
   "outputs": [],
   "source": []
  },
  {
   "cell_type": "markdown",
   "id": "0385a3a2",
   "metadata": {},
   "source": [
    "# Select"
   ]
  },
  {
   "cell_type": "code",
   "execution_count": 8,
   "id": "a4486e51",
   "metadata": {},
   "outputs": [],
   "source": [
    "qs = Shop.objects.all()"
   ]
  },
  {
   "cell_type": "code",
   "execution_count": 9,
   "id": "e8e95675",
   "metadata": {
    "scrolled": true
   },
   "outputs": [
    {
     "name": "stderr",
     "output_type": "stream",
     "text": [
      "(0.000) SELECT \"mall_shop\".\"id\", \"mall_shop\".\"name\", \"mall_shop\".\"description\", \"mall_shop\".\"telephone\", \"mall_shop\".\"photo\", \"mall_shop\".\"created_at\", \"mall_shop\".\"updated_at\" FROM \"mall_shop\" ORDER BY \"mall_shop\".\"id\" DESC; args=()\n"
     ]
    },
    {
     "name": "stdout",
     "output_type": "stream",
     "text": [
      "7 셀프24시빨래방 042-1234-4321\n",
      "6 투썸플레이스  042-1234-1234\n",
      "5 셀프24시빨래방 042-1234-4321\n",
      "4 셀프24시빨래방 042-1234-4321\n",
      "3 투썸플레이스  042-1234-1234\n"
     ]
    }
   ],
   "source": [
    "for shop in qs:\n",
    "    print(shop.pk, shop.name, shop.telephone)"
   ]
  },
  {
   "cell_type": "code",
   "execution_count": 10,
   "id": "52ea2ae0",
   "metadata": {},
   "outputs": [
    {
     "data": {
      "text/plain": [
       "mall.models.Shop"
      ]
     },
     "execution_count": 10,
     "metadata": {},
     "output_type": "execute_result"
    }
   ],
   "source": [
    "Shop"
   ]
  },
  {
   "cell_type": "code",
   "execution_count": 11,
   "id": "98e90e3e",
   "metadata": {},
   "outputs": [
    {
     "name": "stderr",
     "output_type": "stream",
     "text": [
      "(0.000) SELECT \"mall_shop\".\"id\", \"mall_shop\".\"name\", \"mall_shop\".\"description\", \"mall_shop\".\"telephone\", \"mall_shop\".\"photo\", \"mall_shop\".\"created_at\", \"mall_shop\".\"updated_at\" FROM \"mall_shop\" ORDER BY \"mall_shop\".\"id\" ASC LIMIT 21; args=()\n"
     ]
    },
    {
     "data": {
      "text/plain": [
       "<QuerySet [<Shop: Shop object (3)>, <Shop: Shop object (4)>, <Shop: Shop object (5)>, <Shop: Shop object (6)>, <Shop: Shop object (7)>]>"
      ]
     },
     "execution_count": 11,
     "metadata": {},
     "output_type": "execute_result"
    }
   ],
   "source": [
    "qs.order_by(\"id\")"
   ]
  },
  {
   "cell_type": "code",
   "execution_count": 12,
   "id": "e5ebf06c",
   "metadata": {
    "scrolled": true
   },
   "outputs": [
    {
     "name": "stderr",
     "output_type": "stream",
     "text": [
      "(0.000) SELECT \"mall_shop\".\"id\", \"mall_shop\".\"name\", \"mall_shop\".\"description\", \"mall_shop\".\"telephone\", \"mall_shop\".\"photo\", \"mall_shop\".\"created_at\", \"mall_shop\".\"updated_at\" FROM \"mall_shop\" ORDER BY \"mall_shop\".\"id\" DESC LIMIT 21; args=()\n"
     ]
    },
    {
     "data": {
      "text/plain": [
       "<QuerySet [<Shop: Shop object (7)>, <Shop: Shop object (6)>, <Shop: Shop object (5)>, <Shop: Shop object (4)>, <Shop: Shop object (3)>]>"
      ]
     },
     "execution_count": 12,
     "metadata": {},
     "output_type": "execute_result"
    }
   ],
   "source": [
    "qs.order_by(\"-id\")"
   ]
  },
  {
   "cell_type": "code",
   "execution_count": 13,
   "id": "4ca4144b",
   "metadata": {},
   "outputs": [
    {
     "name": "stderr",
     "output_type": "stream",
     "text": [
      "(0.000) SELECT \"mall_shop\".\"id\", \"mall_shop\".\"name\", \"mall_shop\".\"description\", \"mall_shop\".\"telephone\", \"mall_shop\".\"photo\", \"mall_shop\".\"created_at\", \"mall_shop\".\"updated_at\" FROM \"mall_shop\" ORDER BY \"mall_shop\".\"id\" DESC, \"mall_shop\".\"created_at\" ASC LIMIT 21; args=()\n"
     ]
    },
    {
     "data": {
      "text/plain": [
       "<QuerySet [<Shop: Shop object (7)>, <Shop: Shop object (6)>, <Shop: Shop object (5)>, <Shop: Shop object (4)>, <Shop: Shop object (3)>]>"
      ]
     },
     "execution_count": 13,
     "metadata": {},
     "output_type": "execute_result"
    }
   ],
   "source": [
    "qs.order_by(\"-id\", \"created_at\") # 정렬은 가급적 단일 컬럼을 사용!"
   ]
  },
  {
   "cell_type": "markdown",
   "id": "ab223ab9",
   "metadata": {},
   "source": [
    "## 데이터 뻥튀기"
   ]
  },
  {
   "cell_type": "code",
   "execution_count": 20,
   "id": "7783f2be",
   "metadata": {},
   "outputs": [
    {
     "name": "stderr",
     "output_type": "stream",
     "text": [
      "(0.016) INSERT INTO \"mall_shop\" (\"name\", \"description\", \"telephone\", \"photo\", \"created_at\", \"updated_at\") VALUES ('가게명#1', '', '042-1234-0001', '', '2021-12-01 06:45:45.156354', '2021-12-01 06:45:45.156354'); args=['가게명#1', '', '042-1234-0001', '', '2021-12-01 06:45:45.156354', '2021-12-01 06:45:45.156354']\n",
      "(0.015) INSERT INTO \"mall_shop\" (\"name\", \"description\", \"telephone\", \"photo\", \"created_at\", \"updated_at\") VALUES ('가게명#2', '', '042-1234-0002', '', '2021-12-01 06:45:45.181024', '2021-12-01 06:45:45.181024'); args=['가게명#2', '', '042-1234-0002', '', '2021-12-01 06:45:45.181024', '2021-12-01 06:45:45.181024']\n",
      "(0.000) INSERT INTO \"mall_shop\" (\"name\", \"description\", \"telephone\", \"photo\", \"created_at\", \"updated_at\") VALUES ('가게명#3', '', '042-1234-0003', '', '2021-12-01 06:45:45.189989', '2021-12-01 06:45:45.189989'); args=['가게명#3', '', '042-1234-0003', '', '2021-12-01 06:45:45.189989', '2021-12-01 06:45:45.189989']\n",
      "(0.000) INSERT INTO \"mall_shop\" (\"name\", \"description\", \"telephone\", \"photo\", \"created_at\", \"updated_at\") VALUES ('가게명#4', '', '042-1234-0004', '', '2021-12-01 06:45:45.197237', '2021-12-01 06:45:45.197237'); args=['가게명#4', '', '042-1234-0004', '', '2021-12-01 06:45:45.197237', '2021-12-01 06:45:45.197237']\n",
      "(0.000) INSERT INTO \"mall_shop\" (\"name\", \"description\", \"telephone\", \"photo\", \"created_at\", \"updated_at\") VALUES ('가게명#5', '', '042-1234-0005', '', '2021-12-01 06:45:45.204221', '2021-12-01 06:45:45.204221'); args=['가게명#5', '', '042-1234-0005', '', '2021-12-01 06:45:45.204221', '2021-12-01 06:45:45.204221']\n",
      "(0.016) INSERT INTO \"mall_shop\" (\"name\", \"description\", \"telephone\", \"photo\", \"created_at\", \"updated_at\") VALUES ('가게명#6', '', '042-1234-0006', '', '2021-12-01 06:45:45.210204', '2021-12-01 06:45:45.210204'); args=['가게명#6', '', '042-1234-0006', '', '2021-12-01 06:45:45.210204', '2021-12-01 06:45:45.210204']\n",
      "(0.000) INSERT INTO \"mall_shop\" (\"name\", \"description\", \"telephone\", \"photo\", \"created_at\", \"updated_at\") VALUES ('가게명#7', '', '042-1234-0007', '', '2021-12-01 06:45:45.218183', '2021-12-01 06:45:45.218183'); args=['가게명#7', '', '042-1234-0007', '', '2021-12-01 06:45:45.218183', '2021-12-01 06:45:45.218183']\n",
      "(0.015) INSERT INTO \"mall_shop\" (\"name\", \"description\", \"telephone\", \"photo\", \"created_at\", \"updated_at\") VALUES ('가게명#8', '', '042-1234-0008', '', '2021-12-01 06:45:45.225163', '2021-12-01 06:45:45.225163'); args=['가게명#8', '', '042-1234-0008', '', '2021-12-01 06:45:45.225163', '2021-12-01 06:45:45.225163']\n",
      "(0.000) INSERT INTO \"mall_shop\" (\"name\", \"description\", \"telephone\", \"photo\", \"created_at\", \"updated_at\") VALUES ('가게명#9', '', '042-1234-0009', '', '2021-12-01 06:45:45.231149', '2021-12-01 06:45:45.231149'); args=['가게명#9', '', '042-1234-0009', '', '2021-12-01 06:45:45.231149', '2021-12-01 06:45:45.231149']\n"
     ]
    }
   ],
   "source": [
    "for i in range(1,10):\n",
    "    name = f\"가게명#{i}\"\n",
    "    telephone = f\"042-1234-0{i:03}\"\n",
    "    Shop.objects.create(\n",
    "        name = name,\n",
    "        telephone = telephone,\n",
    "    )"
   ]
  },
  {
   "cell_type": "markdown",
   "id": "0e1d4b72",
   "metadata": {},
   "source": [
    "# Delete Rows"
   ]
  },
  {
   "cell_type": "code",
   "execution_count": 14,
   "id": "f403041e",
   "metadata": {},
   "outputs": [],
   "source": [
    "# qs = Shop.objects.all()"
   ]
  },
  {
   "cell_type": "code",
   "execution_count": 15,
   "id": "9a4f8825",
   "metadata": {},
   "outputs": [],
   "source": [
    "# qs.delete()"
   ]
  },
  {
   "cell_type": "markdown",
   "id": "5fbd16ab",
   "metadata": {},
   "source": [
    "# Slicing"
   ]
  },
  {
   "cell_type": "code",
   "execution_count": 21,
   "id": "1f61af41",
   "metadata": {},
   "outputs": [],
   "source": [
    "qs = Shop.objects.all()"
   ]
  },
  {
   "cell_type": "code",
   "execution_count": 23,
   "id": "038b6715",
   "metadata": {},
   "outputs": [
    {
     "name": "stderr",
     "output_type": "stream",
     "text": [
      "(0.000) SELECT \"mall_shop\".\"id\", \"mall_shop\".\"name\", \"mall_shop\".\"description\", \"mall_shop\".\"telephone\", \"mall_shop\".\"photo\", \"mall_shop\".\"created_at\", \"mall_shop\".\"updated_at\" FROM \"mall_shop\" ORDER BY \"mall_shop\".\"id\" DESC LIMIT 10; args=()\n"
     ]
    },
    {
     "data": {
      "text/plain": [
       "<QuerySet [<Shop: Shop object (16)>, <Shop: Shop object (15)>, <Shop: Shop object (14)>, <Shop: Shop object (13)>, <Shop: Shop object (12)>, <Shop: Shop object (11)>, <Shop: Shop object (10)>, <Shop: Shop object (9)>, <Shop: Shop object (8)>, <Shop: Shop object (7)>]>"
      ]
     },
     "execution_count": 23,
     "metadata": {},
     "output_type": "execute_result"
    }
   ],
   "source": [
    "qs[:10] #first 10 rows"
   ]
  },
  {
   "cell_type": "code",
   "execution_count": 24,
   "id": "6f233d85",
   "metadata": {
    "scrolled": false
   },
   "outputs": [
    {
     "name": "stderr",
     "output_type": "stream",
     "text": [
      "(0.000) SELECT \"mall_shop\".\"id\", \"mall_shop\".\"name\", \"mall_shop\".\"description\", \"mall_shop\".\"telephone\", \"mall_shop\".\"photo\", \"mall_shop\".\"created_at\", \"mall_shop\".\"updated_at\" FROM \"mall_shop\" ORDER BY \"mall_shop\".\"id\" DESC LIMIT 10; args=()\n"
     ]
    },
    {
     "data": {
      "text/plain": [
       "[<Shop: Shop object (16)>,\n",
       " <Shop: Shop object (14)>,\n",
       " <Shop: Shop object (12)>,\n",
       " <Shop: Shop object (10)>,\n",
       " <Shop: Shop object (8)>]"
      ]
     },
     "execution_count": 24,
     "metadata": {},
     "output_type": "execute_result"
    }
   ],
   "source": [
    "qs[0:10:2]"
   ]
  },
  {
   "cell_type": "code",
   "execution_count": 27,
   "id": "0e6a5df2",
   "metadata": {
    "collapsed": true
   },
   "outputs": [
    {
     "ename": "AssertionError",
     "evalue": "Negative indexing is not supported.",
     "output_type": "error",
     "traceback": [
      "\u001b[1;31m---------------------------------------------------------------------------\u001b[0m",
      "\u001b[1;31mAssertionError\u001b[0m                            Traceback (most recent call last)",
      "\u001b[1;32m~\\AppData\\Local\\Temp/ipykernel_2068/2001361951.py\u001b[0m in \u001b[0;36m<module>\u001b[1;34m\u001b[0m\n\u001b[1;32m----> 1\u001b[1;33m \u001b[0mqs\u001b[0m\u001b[1;33m[\u001b[0m\u001b[1;33m-\u001b[0m\u001b[1;36m10\u001b[0m\u001b[1;33m:\u001b[0m\u001b[1;33m]\u001b[0m \u001b[1;31m# last 10 rows => Not supported in DB\u001b[0m\u001b[1;33m\u001b[0m\u001b[1;33m\u001b[0m\u001b[0m\n\u001b[0m",
      "\u001b[1;32mC:\\Python310\\lib\\site-packages\\django\\db\\models\\query.py\u001b[0m in \u001b[0;36m__getitem__\u001b[1;34m(self, k)\u001b[0m\n\u001b[0;32m    292\u001b[0m                 \u001b[1;33m%\u001b[0m \u001b[0mtype\u001b[0m\u001b[1;33m(\u001b[0m\u001b[0mk\u001b[0m\u001b[1;33m)\u001b[0m\u001b[1;33m.\u001b[0m\u001b[0m__name__\u001b[0m\u001b[1;33m\u001b[0m\u001b[1;33m\u001b[0m\u001b[0m\n\u001b[0;32m    293\u001b[0m             )\n\u001b[1;32m--> 294\u001b[1;33m         assert ((not isinstance(k, slice) and (k >= 0)) or\n\u001b[0m\u001b[0;32m    295\u001b[0m                 (isinstance(k, slice) and (k.start is None or k.start >= 0) and\n\u001b[0;32m    296\u001b[0m                  (k.stop is None or k.stop >= 0))), \\\n",
      "\u001b[1;31mAssertionError\u001b[0m: Negative indexing is not supported."
     ]
    }
   ],
   "source": [
    "qs[-10:] # last 10 rows => Not supported in DB"
   ]
  },
  {
   "cell_type": "code",
   "execution_count": 30,
   "id": "2b546fca",
   "metadata": {},
   "outputs": [
    {
     "name": "stderr",
     "output_type": "stream",
     "text": [
      "(0.000) SELECT \"mall_shop\".\"id\", \"mall_shop\".\"name\", \"mall_shop\".\"description\", \"mall_shop\".\"telephone\", \"mall_shop\".\"photo\", \"mall_shop\".\"created_at\", \"mall_shop\".\"updated_at\" FROM \"mall_shop\" ORDER BY \"mall_shop\".\"id\" ASC LIMIT 10; args=()\n"
     ]
    },
    {
     "name": "stdout",
     "output_type": "stream",
     "text": [
      "12 가게명#5 042-1234-0005\n",
      "11 가게명#4 042-1234-0004\n",
      "10 가게명#3 042-1234-0003\n",
      "9 가게명#2 042-1234-0002\n",
      "8 가게명#1 042-1234-0001\n",
      "7 셀프24시빨래방 042-1234-4321\n",
      "6 투썸플레이스  042-1234-1234\n",
      "5 셀프24시빨래방 042-1234-4321\n",
      "4 셀프24시빨래방 042-1234-4321\n",
      "3 투썸플레이스  042-1234-1234\n"
     ]
    }
   ],
   "source": [
    "for shop in reversed(qs.order_by(\"id\")[:10]):\n",
    "    print(shop.pk, shop.name, shop.telephone)"
   ]
  },
  {
   "cell_type": "markdown",
   "id": "3397612c",
   "metadata": {},
   "source": [
    "# Conditions"
   ]
  },
  {
   "cell_type": "code",
   "execution_count": 31,
   "id": "ee96ce7b",
   "metadata": {},
   "outputs": [],
   "source": [
    "qs = Shop.objects.all()"
   ]
  },
  {
   "cell_type": "code",
   "execution_count": 32,
   "id": "fc0066a1",
   "metadata": {},
   "outputs": [
    {
     "name": "stderr",
     "output_type": "stream",
     "text": [
      "(0.000) SELECT \"mall_shop\".\"id\", \"mall_shop\".\"name\", \"mall_shop\".\"description\", \"mall_shop\".\"telephone\", \"mall_shop\".\"photo\", \"mall_shop\".\"created_at\", \"mall_shop\".\"updated_at\" FROM \"mall_shop\" WHERE \"mall_shop\".\"id\" = 1 ORDER BY \"mall_shop\".\"id\" DESC LIMIT 21; args=(1,)\n"
     ]
    },
    {
     "data": {
      "text/plain": [
       "<QuerySet []>"
      ]
     },
     "execution_count": 32,
     "metadata": {},
     "output_type": "execute_result"
    }
   ],
   "source": [
    "# filter <-> exclude\n",
    "\n",
    "qs.filter(pk=1)"
   ]
  },
  {
   "cell_type": "code",
   "execution_count": 33,
   "id": "72d4699d",
   "metadata": {},
   "outputs": [
    {
     "name": "stderr",
     "output_type": "stream",
     "text": [
      "(0.000) SELECT \"mall_shop\".\"id\", \"mall_shop\".\"name\", \"mall_shop\".\"description\", \"mall_shop\".\"telephone\", \"mall_shop\".\"photo\", \"mall_shop\".\"created_at\", \"mall_shop\".\"updated_at\" FROM \"mall_shop\" WHERE NOT (\"mall_shop\".\"id\" = 1) ORDER BY \"mall_shop\".\"id\" DESC LIMIT 21; args=(1,)\n"
     ]
    },
    {
     "data": {
      "text/plain": [
       "<QuerySet [<Shop: Shop object (16)>, <Shop: Shop object (15)>, <Shop: Shop object (14)>, <Shop: Shop object (13)>, <Shop: Shop object (12)>, <Shop: Shop object (11)>, <Shop: Shop object (10)>, <Shop: Shop object (9)>, <Shop: Shop object (8)>, <Shop: Shop object (7)>, <Shop: Shop object (6)>, <Shop: Shop object (5)>, <Shop: Shop object (4)>, <Shop: Shop object (3)>]>"
      ]
     },
     "execution_count": 33,
     "metadata": {},
     "output_type": "execute_result"
    }
   ],
   "source": [
    "qs.exclude(pk=1)"
   ]
  },
  {
   "cell_type": "code",
   "execution_count": 36,
   "id": "c582df32",
   "metadata": {},
   "outputs": [
    {
     "name": "stderr",
     "output_type": "stream",
     "text": [
      "(0.000) SELECT \"mall_shop\".\"id\", \"mall_shop\".\"name\", \"mall_shop\".\"description\", \"mall_shop\".\"telephone\", \"mall_shop\".\"photo\", \"mall_shop\".\"created_at\", \"mall_shop\".\"updated_at\" FROM \"mall_shop\" WHERE (\"mall_shop\".\"id\" >= 5 AND \"mall_shop\".\"id\" < 10) ORDER BY \"mall_shop\".\"id\" DESC LIMIT 21; args=(5, 10)\n"
     ]
    },
    {
     "data": {
      "text/plain": [
       "<QuerySet [<Shop: Shop object (9)>, <Shop: Shop object (8)>, <Shop: Shop object (7)>, <Shop: Shop object (6)>, <Shop: Shop object (5)>]>"
      ]
     },
     "execution_count": 36,
     "metadata": {},
     "output_type": "execute_result"
    }
   ],
   "source": [
    "# lt : less than <\n",
    "# lte : less than equal <=\n",
    "# gt : greater than >\n",
    "# gte : greather than equal >=\n",
    "\n",
    "qs.filter(\n",
    "    pk__gte = 5,\n",
    "    pk__lt = 10, # lt = less than\n",
    ")"
   ]
  },
  {
   "cell_type": "code",
   "execution_count": 37,
   "id": "5be3d9a3",
   "metadata": {},
   "outputs": [
    {
     "name": "stderr",
     "output_type": "stream",
     "text": [
      "(0.000) SELECT \"mall_shop\".\"id\", \"mall_shop\".\"name\", \"mall_shop\".\"description\", \"mall_shop\".\"telephone\", \"mall_shop\".\"photo\", \"mall_shop\".\"created_at\", \"mall_shop\".\"updated_at\" FROM \"mall_shop\" WHERE (\"mall_shop\".\"id\" >= 5 AND \"mall_shop\".\"id\" < 10) ORDER BY \"mall_shop\".\"id\" DESC LIMIT 21; args=(5, 10)\n"
     ]
    },
    {
     "data": {
      "text/plain": [
       "<QuerySet [<Shop: Shop object (9)>, <Shop: Shop object (8)>, <Shop: Shop object (7)>, <Shop: Shop object (6)>, <Shop: Shop object (5)>]>"
      ]
     },
     "execution_count": 37,
     "metadata": {},
     "output_type": "execute_result"
    }
   ],
   "source": [
    "qs.filter(pk__gte=5).filter(pk__lt=10)"
   ]
  },
  {
   "cell_type": "code",
   "execution_count": 39,
   "id": "456fad0d",
   "metadata": {},
   "outputs": [],
   "source": [
    "qs1 = Shop.objects.all()\n",
    "qs1 = qs1.filter(pk__gte=5)\n",
    "qs1 = qs1.filter(pk__lt=10)"
   ]
  },
  {
   "cell_type": "code",
   "execution_count": 40,
   "id": "e676c226",
   "metadata": {},
   "outputs": [],
   "source": [
    "qs2 = Shop.objects.all().filter(pk__gte=5).filter(pk__lt=10)"
   ]
  },
  {
   "cell_type": "code",
   "execution_count": 41,
   "id": "4cd98e4f",
   "metadata": {},
   "outputs": [],
   "source": [
    "# QuerySet is Lazy."
   ]
  },
  {
   "cell_type": "code",
   "execution_count": 44,
   "id": "3cc9125d",
   "metadata": {},
   "outputs": [
    {
     "name": "stderr",
     "output_type": "stream",
     "text": [
      "(0.000) SELECT \"mall_shop\".\"id\", \"mall_shop\".\"name\", \"mall_shop\".\"description\", \"mall_shop\".\"telephone\", \"mall_shop\".\"photo\", \"mall_shop\".\"created_at\", \"mall_shop\".\"updated_at\" FROM \"mall_shop\" ORDER BY \"mall_shop\".\"id\" DESC; args=()\n"
     ]
    }
   ],
   "source": [
    "qs = Shop.objects.all()\n",
    "shop_list = list(qs)"
   ]
  },
  {
   "cell_type": "code",
   "execution_count": 43,
   "id": "1a661249",
   "metadata": {},
   "outputs": [
    {
     "name": "stderr",
     "output_type": "stream",
     "text": [
      "(0.000) SELECT \"mall_shop\".\"id\", \"mall_shop\".\"name\", \"mall_shop\".\"description\", \"mall_shop\".\"telephone\", \"mall_shop\".\"photo\", \"mall_shop\".\"created_at\", \"mall_shop\".\"updated_at\" FROM \"mall_shop\" ORDER BY \"mall_shop\".\"id\" DESC LIMIT 21; args=()\n"
     ]
    },
    {
     "data": {
      "text/plain": [
       "<QuerySet [<Shop: Shop object (16)>, <Shop: Shop object (15)>, <Shop: Shop object (14)>, <Shop: Shop object (13)>, <Shop: Shop object (12)>, <Shop: Shop object (11)>, <Shop: Shop object (10)>, <Shop: Shop object (9)>, <Shop: Shop object (8)>, <Shop: Shop object (7)>, <Shop: Shop object (6)>, <Shop: Shop object (5)>, <Shop: Shop object (4)>, <Shop: Shop object (3)>]>"
      ]
     },
     "execution_count": 43,
     "metadata": {},
     "output_type": "execute_result"
    }
   ],
   "source": [
    "Shop.objects.all()"
   ]
  },
  {
   "cell_type": "markdown",
   "id": "33d9d9d0",
   "metadata": {},
   "source": [
    "# Get 1 Row"
   ]
  },
  {
   "cell_type": "code",
   "execution_count": 77,
   "id": "72ce9da9",
   "metadata": {},
   "outputs": [],
   "source": [
    "pk = 10\n",
    "not_existed_pk =100000"
   ]
  },
  {
   "cell_type": "code",
   "execution_count": 78,
   "id": "d5a578ef",
   "metadata": {},
   "outputs": [
    {
     "name": "stderr",
     "output_type": "stream",
     "text": [
      "(0.000) SELECT \"mall_shop\".\"id\", \"mall_shop\".\"name\", \"mall_shop\".\"description\", \"mall_shop\".\"telephone\", \"mall_shop\".\"photo\", \"mall_shop\".\"created_at\", \"mall_shop\".\"updated_at\" FROM \"mall_shop\" WHERE \"mall_shop\".\"id\" = 10 LIMIT 21; args=(10,)\n"
     ]
    },
    {
     "data": {
      "text/plain": [
       "<Shop: Shop object (10)>"
      ]
     },
     "execution_count": 78,
     "metadata": {},
     "output_type": "execute_result"
    }
   ],
   "source": [
    "shop = Shop.objects.get(pk=pk)\n",
    "shop"
   ]
  },
  {
   "cell_type": "code",
   "execution_count": 79,
   "id": "a1cf8e9a",
   "metadata": {},
   "outputs": [
    {
     "name": "stderr",
     "output_type": "stream",
     "text": [
      "(0.000) SELECT \"mall_shop\".\"id\", \"mall_shop\".\"name\", \"mall_shop\".\"description\", \"mall_shop\".\"telephone\", \"mall_shop\".\"photo\", \"mall_shop\".\"created_at\", \"mall_shop\".\"updated_at\" FROM \"mall_shop\" WHERE \"mall_shop\".\"id\" = 100000 LIMIT 21; args=(100000,)\n"
     ]
    },
    {
     "ename": "DoesNotExist",
     "evalue": "Shop matching query does not exist.",
     "output_type": "error",
     "traceback": [
      "\u001b[1;31m---------------------------------------------------------------------------\u001b[0m",
      "\u001b[1;31mDoesNotExist\u001b[0m                              Traceback (most recent call last)",
      "\u001b[1;32m~\\AppData\\Local\\Temp/ipykernel_2068/4046401944.py\u001b[0m in \u001b[0;36m<module>\u001b[1;34m\u001b[0m\n\u001b[1;32m----> 1\u001b[1;33m \u001b[0mShop\u001b[0m\u001b[1;33m.\u001b[0m\u001b[0mobjects\u001b[0m\u001b[1;33m.\u001b[0m\u001b[0mget\u001b[0m\u001b[1;33m(\u001b[0m\u001b[0mpk\u001b[0m \u001b[1;33m=\u001b[0m \u001b[0mnot_existed_pk\u001b[0m\u001b[1;33m)\u001b[0m \u001b[1;31m# Shop.DoesNotExist 예외가 발생\u001b[0m\u001b[1;33m\u001b[0m\u001b[1;33m\u001b[0m\u001b[0m\n\u001b[0m",
      "\u001b[1;32mC:\\Python310\\lib\\site-packages\\django\\db\\models\\manager.py\u001b[0m in \u001b[0;36mmanager_method\u001b[1;34m(self, *args, **kwargs)\u001b[0m\n\u001b[0;32m     83\u001b[0m         \u001b[1;32mdef\u001b[0m \u001b[0mcreate_method\u001b[0m\u001b[1;33m(\u001b[0m\u001b[0mname\u001b[0m\u001b[1;33m,\u001b[0m \u001b[0mmethod\u001b[0m\u001b[1;33m)\u001b[0m\u001b[1;33m:\u001b[0m\u001b[1;33m\u001b[0m\u001b[1;33m\u001b[0m\u001b[0m\n\u001b[0;32m     84\u001b[0m             \u001b[1;32mdef\u001b[0m \u001b[0mmanager_method\u001b[0m\u001b[1;33m(\u001b[0m\u001b[0mself\u001b[0m\u001b[1;33m,\u001b[0m \u001b[1;33m*\u001b[0m\u001b[0margs\u001b[0m\u001b[1;33m,\u001b[0m \u001b[1;33m**\u001b[0m\u001b[0mkwargs\u001b[0m\u001b[1;33m)\u001b[0m\u001b[1;33m:\u001b[0m\u001b[1;33m\u001b[0m\u001b[1;33m\u001b[0m\u001b[0m\n\u001b[1;32m---> 85\u001b[1;33m                 \u001b[1;32mreturn\u001b[0m \u001b[0mgetattr\u001b[0m\u001b[1;33m(\u001b[0m\u001b[0mself\u001b[0m\u001b[1;33m.\u001b[0m\u001b[0mget_queryset\u001b[0m\u001b[1;33m(\u001b[0m\u001b[1;33m)\u001b[0m\u001b[1;33m,\u001b[0m \u001b[0mname\u001b[0m\u001b[1;33m)\u001b[0m\u001b[1;33m(\u001b[0m\u001b[1;33m*\u001b[0m\u001b[0margs\u001b[0m\u001b[1;33m,\u001b[0m \u001b[1;33m**\u001b[0m\u001b[0mkwargs\u001b[0m\u001b[1;33m)\u001b[0m\u001b[1;33m\u001b[0m\u001b[1;33m\u001b[0m\u001b[0m\n\u001b[0m\u001b[0;32m     86\u001b[0m             \u001b[0mmanager_method\u001b[0m\u001b[1;33m.\u001b[0m\u001b[0m__name__\u001b[0m \u001b[1;33m=\u001b[0m \u001b[0mmethod\u001b[0m\u001b[1;33m.\u001b[0m\u001b[0m__name__\u001b[0m\u001b[1;33m\u001b[0m\u001b[1;33m\u001b[0m\u001b[0m\n\u001b[0;32m     87\u001b[0m             \u001b[0mmanager_method\u001b[0m\u001b[1;33m.\u001b[0m\u001b[0m__doc__\u001b[0m \u001b[1;33m=\u001b[0m \u001b[0mmethod\u001b[0m\u001b[1;33m.\u001b[0m\u001b[0m__doc__\u001b[0m\u001b[1;33m\u001b[0m\u001b[1;33m\u001b[0m\u001b[0m\n",
      "\u001b[1;32mC:\\Python310\\lib\\site-packages\\django\\db\\models\\query.py\u001b[0m in \u001b[0;36mget\u001b[1;34m(self, *args, **kwargs)\u001b[0m\n\u001b[0;32m    433\u001b[0m             \u001b[1;32mreturn\u001b[0m \u001b[0mclone\u001b[0m\u001b[1;33m.\u001b[0m\u001b[0m_result_cache\u001b[0m\u001b[1;33m[\u001b[0m\u001b[1;36m0\u001b[0m\u001b[1;33m]\u001b[0m\u001b[1;33m\u001b[0m\u001b[1;33m\u001b[0m\u001b[0m\n\u001b[0;32m    434\u001b[0m         \u001b[1;32mif\u001b[0m \u001b[1;32mnot\u001b[0m \u001b[0mnum\u001b[0m\u001b[1;33m:\u001b[0m\u001b[1;33m\u001b[0m\u001b[1;33m\u001b[0m\u001b[0m\n\u001b[1;32m--> 435\u001b[1;33m             raise self.model.DoesNotExist(\n\u001b[0m\u001b[0;32m    436\u001b[0m                 \u001b[1;34m\"%s matching query does not exist.\"\u001b[0m \u001b[1;33m%\u001b[0m\u001b[1;33m\u001b[0m\u001b[1;33m\u001b[0m\u001b[0m\n\u001b[0;32m    437\u001b[0m                 \u001b[0mself\u001b[0m\u001b[1;33m.\u001b[0m\u001b[0mmodel\u001b[0m\u001b[1;33m.\u001b[0m\u001b[0m_meta\u001b[0m\u001b[1;33m.\u001b[0m\u001b[0mobject_name\u001b[0m\u001b[1;33m\u001b[0m\u001b[1;33m\u001b[0m\u001b[0m\n",
      "\u001b[1;31mDoesNotExist\u001b[0m: Shop matching query does not exist."
     ]
    }
   ],
   "source": [
    "Shop.objects.get(pk = not_existed_pk) # Shop.DoesNotExist 예외가 발생"
   ]
  },
  {
   "cell_type": "code",
   "execution_count": 80,
   "id": "68d0bb90",
   "metadata": {},
   "outputs": [
    {
     "name": "stderr",
     "output_type": "stream",
     "text": [
      "(0.000) SELECT \"mall_shop\".\"id\", \"mall_shop\".\"name\", \"mall_shop\".\"description\", \"mall_shop\".\"telephone\", \"mall_shop\".\"photo\", \"mall_shop\".\"created_at\", \"mall_shop\".\"updated_at\" FROM \"mall_shop\" WHERE \"mall_shop\".\"id\" = 10 ORDER BY \"mall_shop\".\"id\" DESC LIMIT 1; args=(10,)\n"
     ]
    },
    {
     "data": {
      "text/plain": [
       "<Shop: Shop object (10)>"
      ]
     },
     "execution_count": 80,
     "metadata": {},
     "output_type": "execute_result"
    }
   ],
   "source": [
    "shop = Shop.objects.filter(pk=pk)[0]\n",
    "shop"
   ]
  },
  {
   "cell_type": "code",
   "execution_count": 83,
   "id": "b7007aa9",
   "metadata": {},
   "outputs": [
    {
     "name": "stderr",
     "output_type": "stream",
     "text": [
      "(0.000) SELECT \"mall_shop\".\"id\", \"mall_shop\".\"name\", \"mall_shop\".\"description\", \"mall_shop\".\"telephone\", \"mall_shop\".\"photo\", \"mall_shop\".\"created_at\", \"mall_shop\".\"updated_at\" FROM \"mall_shop\" WHERE \"mall_shop\".\"id\" = 100000 ORDER BY \"mall_shop\".\"id\" DESC LIMIT 1; args=(100000,)\n"
     ]
    },
    {
     "ename": "IndexError",
     "evalue": "list index out of range",
     "output_type": "error",
     "traceback": [
      "\u001b[1;31m---------------------------------------------------------------------------\u001b[0m",
      "\u001b[1;31mIndexError\u001b[0m                                Traceback (most recent call last)",
      "\u001b[1;32m~\\AppData\\Local\\Temp/ipykernel_2068/3145504549.py\u001b[0m in \u001b[0;36m<module>\u001b[1;34m\u001b[0m\n\u001b[1;32m----> 1\u001b[1;33m \u001b[0mShop\u001b[0m\u001b[1;33m.\u001b[0m\u001b[0mobjects\u001b[0m\u001b[1;33m.\u001b[0m\u001b[0mfilter\u001b[0m\u001b[1;33m(\u001b[0m\u001b[0mpk\u001b[0m \u001b[1;33m=\u001b[0m \u001b[0mnot_existed_pk\u001b[0m\u001b[1;33m)\u001b[0m\u001b[1;33m[\u001b[0m\u001b[1;36m0\u001b[0m\u001b[1;33m]\u001b[0m \u001b[1;31m# IndexError 예외가 발생\u001b[0m\u001b[1;33m\u001b[0m\u001b[1;33m\u001b[0m\u001b[0m\n\u001b[0m",
      "\u001b[1;32mC:\\Python310\\lib\\site-packages\\django\\db\\models\\query.py\u001b[0m in \u001b[0;36m__getitem__\u001b[1;34m(self, k)\u001b[0m\n\u001b[0;32m    316\u001b[0m         \u001b[0mqs\u001b[0m\u001b[1;33m.\u001b[0m\u001b[0mquery\u001b[0m\u001b[1;33m.\u001b[0m\u001b[0mset_limits\u001b[0m\u001b[1;33m(\u001b[0m\u001b[0mk\u001b[0m\u001b[1;33m,\u001b[0m \u001b[0mk\u001b[0m \u001b[1;33m+\u001b[0m \u001b[1;36m1\u001b[0m\u001b[1;33m)\u001b[0m\u001b[1;33m\u001b[0m\u001b[1;33m\u001b[0m\u001b[0m\n\u001b[0;32m    317\u001b[0m         \u001b[0mqs\u001b[0m\u001b[1;33m.\u001b[0m\u001b[0m_fetch_all\u001b[0m\u001b[1;33m(\u001b[0m\u001b[1;33m)\u001b[0m\u001b[1;33m\u001b[0m\u001b[1;33m\u001b[0m\u001b[0m\n\u001b[1;32m--> 318\u001b[1;33m         \u001b[1;32mreturn\u001b[0m \u001b[0mqs\u001b[0m\u001b[1;33m.\u001b[0m\u001b[0m_result_cache\u001b[0m\u001b[1;33m[\u001b[0m\u001b[1;36m0\u001b[0m\u001b[1;33m]\u001b[0m\u001b[1;33m\u001b[0m\u001b[1;33m\u001b[0m\u001b[0m\n\u001b[0m\u001b[0;32m    319\u001b[0m \u001b[1;33m\u001b[0m\u001b[0m\n\u001b[0;32m    320\u001b[0m     \u001b[1;32mdef\u001b[0m \u001b[0m__class_getitem__\u001b[0m\u001b[1;33m(\u001b[0m\u001b[0mcls\u001b[0m\u001b[1;33m,\u001b[0m \u001b[1;33m*\u001b[0m\u001b[0margs\u001b[0m\u001b[1;33m,\u001b[0m \u001b[1;33m**\u001b[0m\u001b[0mkwargs\u001b[0m\u001b[1;33m)\u001b[0m\u001b[1;33m:\u001b[0m\u001b[1;33m\u001b[0m\u001b[1;33m\u001b[0m\u001b[0m\n",
      "\u001b[1;31mIndexError\u001b[0m: list index out of range"
     ]
    }
   ],
   "source": [
    "Shop.objects.filter(pk = not_existed_pk)[0] # IndexError 예외가 발생o"
   ]
  },
  {
   "cell_type": "code",
   "execution_count": 82,
   "id": "49d94a0f",
   "metadata": {},
   "outputs": [
    {
     "name": "stderr",
     "output_type": "stream",
     "text": [
      "(0.000) SELECT \"mall_shop\".\"id\", \"mall_shop\".\"name\", \"mall_shop\".\"description\", \"mall_shop\".\"telephone\", \"mall_shop\".\"photo\", \"mall_shop\".\"created_at\", \"mall_shop\".\"updated_at\" FROM \"mall_shop\" WHERE \"mall_shop\".\"id\" = 100000 ORDER BY \"mall_shop\".\"id\" DESC LIMIT 1; args=(100000,)\n"
     ]
    }
   ],
   "source": [
    "Shop.objects.filter(pk=not_existed_pk).first() # 지정 Row가 없다면 None을 반환할 뿐, 예외는 발생X"
   ]
  },
  {
   "cell_type": "markdown",
   "id": "e498966d",
   "metadata": {},
   "source": [
    "## Conditions (OR)"
   ]
  },
  {
   "cell_type": "code",
   "execution_count": 59,
   "id": "f1c762ff",
   "metadata": {},
   "outputs": [
    {
     "name": "stderr",
     "output_type": "stream",
     "text": [
      "(0.000) SELECT \"mall_shop\".\"id\", \"mall_shop\".\"name\", \"mall_shop\".\"description\", \"mall_shop\".\"telephone\", \"mall_shop\".\"photo\", \"mall_shop\".\"created_at\", \"mall_shop\".\"updated_at\" FROM \"mall_shop\" WHERE (\"mall_shop\".\"id\" >= 5 AND \"mall_shop\".\"id\" < 10) ORDER BY \"mall_shop\".\"id\" DESC LIMIT 21; args=(5, 10)\n"
     ]
    },
    {
     "data": {
      "text/plain": [
       "<QuerySet [<Shop: Shop object (9)>, <Shop: Shop object (8)>, <Shop: Shop object (7)>, <Shop: Shop object (6)>, <Shop: Shop object (5)>]>"
      ]
     },
     "execution_count": 59,
     "metadata": {},
     "output_type": "execute_result"
    }
   ],
   "source": [
    "qs = Shop.objects.all()\n",
    "qs.filter(pk__gte=5, pk__lt=10) # AND"
   ]
  },
  {
   "cell_type": "code",
   "execution_count": 60,
   "id": "ba13c8b9",
   "metadata": {},
   "outputs": [],
   "source": [
    "from django.db.models import Q"
   ]
  },
  {
   "cell_type": "code",
   "execution_count": 61,
   "id": "ddd80e4f",
   "metadata": {},
   "outputs": [
    {
     "data": {
      "text/plain": [
       "<Q: (AND: ('pk__gte', 5))>"
      ]
     },
     "execution_count": 61,
     "metadata": {},
     "output_type": "execute_result"
    }
   ],
   "source": [
    "Q(pk__gte=5)"
   ]
  },
  {
   "cell_type": "code",
   "execution_count": 62,
   "id": "0a9fe8f1",
   "metadata": {},
   "outputs": [
    {
     "data": {
      "text/plain": [
       "<Q: (AND: ('pk__lt', 10))>"
      ]
     },
     "execution_count": 62,
     "metadata": {},
     "output_type": "execute_result"
    }
   ],
   "source": [
    "Q(pk__lt=10)"
   ]
  },
  {
   "cell_type": "code",
   "execution_count": 63,
   "id": "ac88369d",
   "metadata": {},
   "outputs": [
    {
     "data": {
      "text/plain": [
       "<Q: (AND: ('pk__gte', 5), ('pk__lt', 10))>"
      ]
     },
     "execution_count": 63,
     "metadata": {},
     "output_type": "execute_result"
    }
   ],
   "source": [
    "Q(pk__gte=5) & Q(pk__lt=10)"
   ]
  },
  {
   "cell_type": "code",
   "execution_count": 64,
   "id": "03083877",
   "metadata": {},
   "outputs": [
    {
     "data": {
      "text/plain": [
       "<Q: (OR: ('pk__gte', 5), ('pk__lt', 10))>"
      ]
     },
     "execution_count": 64,
     "metadata": {},
     "output_type": "execute_result"
    }
   ],
   "source": [
    "Q(pk__gte=5) | Q(pk__lt=10)"
   ]
  },
  {
   "cell_type": "code",
   "execution_count": 68,
   "id": "c8a12abb",
   "metadata": {},
   "outputs": [
    {
     "name": "stderr",
     "output_type": "stream",
     "text": [
      "(0.000) SELECT \"mall_shop\".\"id\", \"mall_shop\".\"name\", \"mall_shop\".\"description\", \"mall_shop\".\"telephone\", \"mall_shop\".\"photo\", \"mall_shop\".\"created_at\", \"mall_shop\".\"updated_at\" FROM \"mall_shop\" WHERE (\"mall_shop\".\"id\" >= 5 OR \"mall_shop\".\"id\" < 10) ORDER BY \"mall_shop\".\"id\" DESC LIMIT 21; args=(5, 10)\n"
     ]
    },
    {
     "data": {
      "text/plain": [
       "<QuerySet [<Shop: Shop object (16)>, <Shop: Shop object (15)>, <Shop: Shop object (14)>, <Shop: Shop object (13)>, <Shop: Shop object (12)>, <Shop: Shop object (11)>, <Shop: Shop object (10)>, <Shop: Shop object (9)>, <Shop: Shop object (8)>, <Shop: Shop object (7)>, <Shop: Shop object (6)>, <Shop: Shop object (5)>, <Shop: Shop object (4)>, <Shop: Shop object (3)>]>"
      ]
     },
     "execution_count": 68,
     "metadata": {},
     "output_type": "execute_result"
    }
   ],
   "source": [
    "qs = Shop.objects.all()\n",
    "qs.filter(\n",
    "    Q(pk__gte=5) | Q(pk__lt=10)\n",
    ")"
   ]
  },
  {
   "cell_type": "code",
   "execution_count": 70,
   "id": "950b5920",
   "metadata": {},
   "outputs": [
    {
     "data": {
      "text/plain": [
       "<Q: (OR: ('pk__gte', 5), ('pk__lt', 10))>"
      ]
     },
     "execution_count": 70,
     "metadata": {},
     "output_type": "execute_result"
    }
   ],
   "source": [
    "conditions = Q(pk__gte=5)\n",
    "# conditions = conditions | Q(pk__lt=10)\n",
    "conditions |= Q(pk__lt=10)\n",
    "\n",
    "conditions"
   ]
  },
  {
   "cell_type": "markdown",
   "id": "7d8e2b8a",
   "metadata": {},
   "source": [
    "# Update Rows"
   ]
  },
  {
   "cell_type": "markdown",
   "id": "90f1ae1b",
   "metadata": {},
   "source": [
    "## 지정 Row"
   ]
  },
  {
   "cell_type": "code",
   "execution_count": 85,
   "id": "b1598859",
   "metadata": {},
   "outputs": [
    {
     "name": "stderr",
     "output_type": "stream",
     "text": [
      "(0.000) SELECT \"mall_shop\".\"id\", \"mall_shop\".\"name\", \"mall_shop\".\"description\", \"mall_shop\".\"telephone\", \"mall_shop\".\"photo\", \"mall_shop\".\"created_at\", \"mall_shop\".\"updated_at\" FROM \"mall_shop\" WHERE \"mall_shop\".\"id\" = 10 LIMIT 21; args=(10,)\n"
     ]
    }
   ],
   "source": [
    "qs = Shop.objects.all()\n",
    "shop = qs.get(pk=10)"
   ]
  },
  {
   "cell_type": "code",
   "execution_count": 86,
   "id": "59c2e338",
   "metadata": {},
   "outputs": [
    {
     "data": {
      "text/plain": [
       "('가게명#3', '042-1234-0003')"
      ]
     },
     "execution_count": 86,
     "metadata": {},
     "output_type": "execute_result"
    }
   ],
   "source": [
    "shop.name, shop.telephone"
   ]
  },
  {
   "cell_type": "code",
   "execution_count": 87,
   "id": "b0792c3f",
   "metadata": {},
   "outputs": [],
   "source": [
    "shop.telephone = \"042-1234-0006\""
   ]
  },
  {
   "cell_type": "code",
   "execution_count": 88,
   "id": "d3f17244",
   "metadata": {},
   "outputs": [
    {
     "name": "stderr",
     "output_type": "stream",
     "text": [
      "(0.016) UPDATE \"mall_shop\" SET \"name\" = '가게명#3', \"description\" = '', \"telephone\" = '042-1234-0006', \"photo\" = '', \"created_at\" = '2021-12-01 06:45:45.189989', \"updated_at\" = '2021-12-01 07:38:42.025236' WHERE \"mall_shop\".\"id\" = 10; args=('가게명#3', '', '042-1234-0006', '', '2021-12-01 06:45:45.189989', '2021-12-01 07:38:42.025236', 10)\n"
     ]
    }
   ],
   "source": [
    "shop.save()"
   ]
  },
  {
   "cell_type": "markdown",
   "id": "9b722a94",
   "metadata": {},
   "source": [
    "## 지정 범위의 Rows"
   ]
  },
  {
   "cell_type": "code",
   "execution_count": 89,
   "id": "bf3fa678",
   "metadata": {},
   "outputs": [
    {
     "name": "stderr",
     "output_type": "stream",
     "text": [
      "(0.047) UPDATE \"mall_shop\" SET \"description\" = 'not used description' WHERE \"mall_shop\".\"id\" <= 10; args=('not used description', 10)\n"
     ]
    },
    {
     "data": {
      "text/plain": [
       "8"
      ]
     },
     "execution_count": 89,
     "metadata": {},
     "output_type": "execute_result"
    }
   ],
   "source": [
    "qs = Shop.objects.all()\n",
    "qs = qs.filter(pk__lte=10)\n",
    "qs.update(\n",
    "    description = \"not used description\",\n",
    ")"
   ]
  },
  {
   "cell_type": "code",
   "execution_count": 90,
   "id": "b42f1c31",
   "metadata": {},
   "outputs": [
    {
     "name": "stderr",
     "output_type": "stream",
     "text": [
      "(0.000) SELECT \"mall_shop\".\"id\", \"mall_shop\".\"name\", \"mall_shop\".\"description\", \"mall_shop\".\"telephone\", \"mall_shop\".\"photo\", \"mall_shop\".\"created_at\", \"mall_shop\".\"updated_at\" FROM \"mall_shop\" WHERE \"mall_shop\".\"id\" <= 10 ORDER BY \"mall_shop\".\"id\" DESC; args=(10,)\n",
      "(0.032) UPDATE \"mall_shop\" SET \"name\" = '가게명#3', \"description\" = 'not used description', \"telephone\" = '042-1234-0006', \"photo\" = '', \"created_at\" = '2021-12-01 06:45:45.189989', \"updated_at\" = '2021-12-01 07:42:38.986601' WHERE \"mall_shop\".\"id\" = 10; args=('가게명#3', 'not used description', '042-1234-0006', '', '2021-12-01 06:45:45.189989', '2021-12-01 07:42:38.986601', 10)\n",
      "(0.000) UPDATE \"mall_shop\" SET \"name\" = '가게명#2', \"description\" = 'not used description', \"telephone\" = '042-1234-0002', \"photo\" = '', \"created_at\" = '2021-12-01 06:45:45.181024', \"updated_at\" = '2021-12-01 07:42:39.025664' WHERE \"mall_shop\".\"id\" = 9; args=('가게명#2', 'not used description', '042-1234-0002', '', '2021-12-01 06:45:45.181024', '2021-12-01 07:42:39.025664', 9)\n",
      "(0.016) UPDATE \"mall_shop\" SET \"name\" = '가게명#1', \"description\" = 'not used description', \"telephone\" = '042-1234-0001', \"photo\" = '', \"created_at\" = '2021-12-01 06:45:45.156354', \"updated_at\" = '2021-12-01 07:42:39.035635' WHERE \"mall_shop\".\"id\" = 8; args=('가게명#1', 'not used description', '042-1234-0001', '', '2021-12-01 06:45:45.156354', '2021-12-01 07:42:39.035635', 8)\n",
      "(0.000) UPDATE \"mall_shop\" SET \"name\" = '셀프24시빨래방', \"description\" = 'not used description', \"telephone\" = '042-1234-4321', \"photo\" = '', \"created_at\" = '2021-12-01 06:40:57.970073', \"updated_at\" = '2021-12-01 07:42:39.043615' WHERE \"mall_shop\".\"id\" = 7; args=('셀프24시빨래방', 'not used description', '042-1234-4321', '', '2021-12-01 06:40:57.970073', '2021-12-01 07:42:39.043615', 7)\n",
      "(0.015) UPDATE \"mall_shop\" SET \"name\" = '투썸플레이스', \"description\" = 'not used description', \"telephone\" = ' 042-1234-1234', \"photo\" = '', \"created_at\" = '2021-12-01 06:40:57.953115', \"updated_at\" = '2021-12-01 07:42:39.054584' WHERE \"mall_shop\".\"id\" = 6; args=('투썸플레이스', 'not used description', ' 042-1234-1234', '', '2021-12-01 06:40:57.953115', '2021-12-01 07:42:39.054584', 6)\n",
      "(0.016) UPDATE \"mall_shop\" SET \"name\" = '셀프24시빨래방', \"description\" = 'not used description', \"telephone\" = '042-1234-4321', \"photo\" = '', \"created_at\" = '2021-12-01 06:11:18.256992', \"updated_at\" = '2021-12-01 07:42:39.064581' WHERE \"mall_shop\".\"id\" = 5; args=('셀프24시빨래방', 'not used description', '042-1234-4321', '', '2021-12-01 06:11:18.256992', '2021-12-01 07:42:39.064581', 5)\n",
      "(0.031) UPDATE \"mall_shop\" SET \"name\" = '셀프24시빨래방', \"description\" = 'not used description', \"telephone\" = '042-1234-4321', \"photo\" = '', \"created_at\" = '2021-12-01 06:11:08.577309', \"updated_at\" = '2021-12-01 07:42:39.073830' WHERE \"mall_shop\".\"id\" = 4; args=('셀프24시빨래방', 'not used description', '042-1234-4321', '', '2021-12-01 06:11:08.577309', '2021-12-01 07:42:39.073830', 4)\n",
      "(0.000) UPDATE \"mall_shop\" SET \"name\" = '투썸플레이스', \"description\" = 'not used description', \"telephone\" = ' 042-1234-1234', \"photo\" = '', \"created_at\" = '2021-12-01 06:11:07.058709', \"updated_at\" = '2021-12-01 07:42:39.106428' WHERE \"mall_shop\".\"id\" = 3; args=('투썸플레이스', 'not used description', ' 042-1234-1234', '', '2021-12-01 06:11:07.058709', '2021-12-01 07:42:39.106428', 3)\n"
     ]
    }
   ],
   "source": [
    "qs = Shop.objects.all()\n",
    "qs = qs.filter(pk__lte=10)\n",
    "for shop in qs:\n",
    "    shop.description = \"not used description\"\n",
    "    shop.save()"
   ]
  },
  {
   "cell_type": "code",
   "execution_count": null,
   "id": "bfebb1be",
   "metadata": {},
   "outputs": [],
   "source": []
  }
 ],
 "metadata": {
  "kernelspec": {
   "display_name": "Python 3 (ipykernel)",
   "language": "python",
   "name": "python3"
  },
  "language_info": {
   "codemirror_mode": {
    "name": "ipython",
    "version": 3
   },
   "file_extension": ".py",
   "mimetype": "text/x-python",
   "name": "python",
   "nbconvert_exporter": "python",
   "pygments_lexer": "ipython3",
   "version": "3.10.0"
  }
 },
 "nbformat": 4,
 "nbformat_minor": 5
}
