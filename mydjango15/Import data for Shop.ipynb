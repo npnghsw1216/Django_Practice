{
 "cells": [
  {
   "cell_type": "code",
   "execution_count": 1,
   "id": "dd54f58d",
   "metadata": {},
   "outputs": [],
   "source": [
    "import os\n",
    "os.environ[\"DJANGO_SETTINGS_MODULE\"] = \"mydjango15.settings\"\n",
    "os.environ[\"DJANGO_ALLOW_ASYNC_UNSAFE\"] = \"true\"\n",
    "\n",
    "import django\n",
    "django.setup()"
   ]
  },
  {
   "cell_type": "code",
   "execution_count": 2,
   "id": "f2ef8562",
   "metadata": {},
   "outputs": [
    {
     "data": {
      "text/plain": [
       "[['name', 'description', 'address', 'cordinates', 'telephone'],\n",
       " ['부여순대',\n",
       "  '모듬국밥(보통)\\n모듬국밥(곱배기)\\n순대접시(소)\\n순대접시(대)',\n",
       "  '대전 동구 동부로 5-3',\n",
       "  '36.3177117,127.4561853',\n",
       "  '042-282-3091'],\n",
       " ['지은집',\n",
       "  '아메리카노 3,500원\\n카페라떼 4,000원\\n헤이즐럿라떼 4,500원',\n",
       "  '대전 동구 장수2길 2 지은집',\n",
       "  '36.3228048,127.4471666',\n",
       "  '0507-1491-0615'],\n",
       " ['카페 구름, 들',\n",
       "  '과거 구름:들 이라 불렸던 이 마을에서 구름의 시간, 들의 시간으로 함께 합니다.',\n",
       "  '대전 동구 용대길 50 2층',\n",
       "  '36.32498229999999,127.4487483',\n",
       "  '0507-1489-0526'],\n",
       " ['오유민 동태마을 판암점',\n",
       "  '지리탕 8,000원\\n소고기 버섯전골 10,000원\\n물냉면 7,000원',\n",
       "  '대전 동구 옥천로 150',\n",
       "  '36.3165508,127.4569551',\n",
       "  '042-286-5254'],\n",
       " ['담꾹 판암점',\n",
       "  '주차, 포장, 배달, 예약, 지역화폐(카드형), 제로페이',\n",
       "  '대전 동구 옥천로 183 판암퍼스트타워 116호',\n",
       "  '36.318086,127.4603869',\n",
       "  '042-286-0072'],\n",
       " ['이루다스터디카페',\n",
       "  '주차, 무선 인터넷, 남/녀 화장실 구분, 국민지원금',\n",
       "  '대전 동구 판암동 300-6',\n",
       "  '36.3178085,127.460441',\n",
       "  '042-274-2411'],\n",
       " ['대전뚝배기',\n",
       "  '늘 정성과 진심을 다해 음식을 만들고 있습니다.\\n저희 음식을 드시고 가실 때 마다 맛있다고, 또 찾겠다는 고객님들,\\n그리고 개인 블로그에 글과 사진을 올려주시는 고객님들 감사합니다.\\n고객님들의 힘에 보답하고자 더 맛있는 음식을 정성껏 준비하겠습니다',\n",
       "  '대전 동구 동부로 86',\n",
       "  '36.3220348,127.461921',\n",
       "  '042-272-5848'],\n",
       " ['대전감자탕',\n",
       "  '단체석, 주차, 포장, 배달, 예약, 무선 인터넷, 남/녀 화장실 구분, 지역화폐(카드형), 국민지원금',\n",
       "  '대전 동구 옥천로 187',\n",
       "  '36.3180129,127.4608094',\n",
       "  '0507-1368-2829'],\n",
       " ['판암정보리밥',\n",
       "  '포장, 지역화폐(카드형), 국민지원금',\n",
       "  '대전 동구 옻밭5길 197',\n",
       "  '36.3214197,127.4495196',\n",
       "  '0507-1310-8469'],\n",
       " [None, None, None, None, None],\n",
       " [None, None, None, None, None],\n",
       " [None, None, None, None, None],\n",
       " [None, None, None, None, None],\n",
       " [None, None, None, None, None],\n",
       " [None, None, None, None, None]]"
      ]
     },
     "execution_count": 2,
     "metadata": {},
     "output_type": "execute_result"
    }
   ],
   "source": [
    "from openpyxl import load_workbook\n",
    "wb = load_workbook('mydjango15-data.xlsx')\n",
    "sheet = wb.active\n",
    "rows = [\n",
    "\t[column.value for column in row]\n",
    "\tfor row in sheet\n",
    "]\n",
    "rows"
   ]
  },
  {
   "cell_type": "code",
   "execution_count": 3,
   "id": "b614de4e",
   "metadata": {},
   "outputs": [
    {
     "data": {
      "text/plain": [
       "['name', 'description', 'address', 'cordinates', 'telephone']"
      ]
     },
     "execution_count": 3,
     "metadata": {},
     "output_type": "execute_result"
    }
   ],
   "source": [
    "column_names = rows[0]\n",
    "column_names"
   ]
  },
  {
   "cell_type": "code",
   "execution_count": 4,
   "id": "bf32ab11",
   "metadata": {},
   "outputs": [
    {
     "data": {
      "text/plain": [
       "[{'name': '부여순대',\n",
       "  'description': '모듬국밥(보통)\\n모듬국밥(곱배기)\\n순대접시(소)\\n순대접시(대)',\n",
       "  'address': '대전 동구 동부로 5-3',\n",
       "  'telephone': '042-282-3091',\n",
       "  'latitude': '36.3177117',\n",
       "  'longitude': '127.4561853'},\n",
       " {'name': '지은집',\n",
       "  'description': '아메리카노 3,500원\\n카페라떼 4,000원\\n헤이즐럿라떼 4,500원',\n",
       "  'address': '대전 동구 장수2길 2 지은집',\n",
       "  'telephone': '0507-1491-0615',\n",
       "  'latitude': '36.3228048',\n",
       "  'longitude': '127.4471666'},\n",
       " {'name': '카페 구름, 들',\n",
       "  'description': '과거 구름:들 이라 불렸던 이 마을에서 구름의 시간, 들의 시간으로 함께 합니다.',\n",
       "  'address': '대전 동구 용대길 50 2층',\n",
       "  'telephone': '0507-1489-0526',\n",
       "  'latitude': '36.32498229999999',\n",
       "  'longitude': '127.4487483'},\n",
       " {'name': '오유민 동태마을 판암점',\n",
       "  'description': '지리탕 8,000원\\n소고기 버섯전골 10,000원\\n물냉면 7,000원',\n",
       "  'address': '대전 동구 옥천로 150',\n",
       "  'telephone': '042-286-5254',\n",
       "  'latitude': '36.3165508',\n",
       "  'longitude': '127.4569551'},\n",
       " {'name': '담꾹 판암점',\n",
       "  'description': '주차, 포장, 배달, 예약, 지역화폐(카드형), 제로페이',\n",
       "  'address': '대전 동구 옥천로 183 판암퍼스트타워 116호',\n",
       "  'telephone': '042-286-0072',\n",
       "  'latitude': '36.318086',\n",
       "  'longitude': '127.4603869'},\n",
       " {'name': '이루다스터디카페',\n",
       "  'description': '주차, 무선 인터넷, 남/녀 화장실 구분, 국민지원금',\n",
       "  'address': '대전 동구 판암동 300-6',\n",
       "  'telephone': '042-274-2411',\n",
       "  'latitude': '36.3178085',\n",
       "  'longitude': '127.460441'},\n",
       " {'name': '대전뚝배기',\n",
       "  'description': '늘 정성과 진심을 다해 음식을 만들고 있습니다.\\n저희 음식을 드시고 가실 때 마다 맛있다고, 또 찾겠다는 고객님들,\\n그리고 개인 블로그에 글과 사진을 올려주시는 고객님들 감사합니다.\\n고객님들의 힘에 보답하고자 더 맛있는 음식을 정성껏 준비하겠습니다',\n",
       "  'address': '대전 동구 동부로 86',\n",
       "  'telephone': '042-272-5848',\n",
       "  'latitude': '36.3220348',\n",
       "  'longitude': '127.461921'},\n",
       " {'name': '대전감자탕',\n",
       "  'description': '단체석, 주차, 포장, 배달, 예약, 무선 인터넷, 남/녀 화장실 구분, 지역화폐(카드형), 국민지원금',\n",
       "  'address': '대전 동구 옥천로 187',\n",
       "  'telephone': '0507-1368-2829',\n",
       "  'latitude': '36.3180129',\n",
       "  'longitude': '127.4608094'},\n",
       " {'name': '판암정보리밥',\n",
       "  'description': '포장, 지역화폐(카드형), 국민지원금',\n",
       "  'address': '대전 동구 옻밭5길 197',\n",
       "  'telephone': '0507-1310-8469',\n",
       "  'latitude': '36.3214197',\n",
       "  'longitude': '127.4495196'}]"
      ]
     },
     "execution_count": 4,
     "metadata": {},
     "output_type": "execute_result"
    }
   ],
   "source": [
    "row_list = []\n",
    "\n",
    "for row in rows[1:]:\n",
    "    if row[0] is None:\n",
    "        break\n",
    "    row_dict = dict(zip(column_names, row))\n",
    "    latitude, longitude = row_dict[\"cordinates\"].split(\",\")\n",
    "    row_dict[\"latitude\"] = latitude\n",
    "    row_dict[\"longitude\"] = longitude\n",
    "    del row_dict[\"cordinates\"]\n",
    "    row_list.append(row_dict)\n",
    "\n",
    "row_list"
   ]
  },
  {
   "cell_type": "code",
   "execution_count": 5,
   "id": "8dae5e73",
   "metadata": {},
   "outputs": [],
   "source": [
    "from delicious.models import Shop"
   ]
  },
  {
   "cell_type": "code",
   "execution_count": 6,
   "id": "9ceabf50",
   "metadata": {},
   "outputs": [
    {
     "name": "stdout",
     "output_type": "stream",
     "text": [
      "Shop object (1)\n",
      "Shop object (2)\n",
      "Shop object (3)\n",
      "Shop object (4)\n",
      "Shop object (5)\n",
      "Shop object (6)\n",
      "Shop object (7)\n",
      "Shop object (8)\n",
      "Shop object (9)\n"
     ]
    }
   ],
   "source": [
    "for row_dict in row_list:\n",
    "    shop = Shop(**row_dict)  # unpack\n",
    "    shop.save()\n",
    "    print(shop)"
   ]
  },
  {
   "cell_type": "code",
   "execution_count": null,
   "id": "216a753f",
   "metadata": {},
   "outputs": [],
   "source": []
  }
 ],
 "metadata": {
  "kernelspec": {
   "display_name": "Python 3 (ipykernel)",
   "language": "python",
   "name": "python3"
  },
  "language_info": {
   "codemirror_mode": {
    "name": "ipython",
    "version": 3
   },
   "file_extension": ".py",
   "mimetype": "text/x-python",
   "name": "python",
   "nbconvert_exporter": "python",
   "pygments_lexer": "ipython3",
   "version": "3.10.0"
  }
 },
 "nbformat": 4,
 "nbformat_minor": 5
}
