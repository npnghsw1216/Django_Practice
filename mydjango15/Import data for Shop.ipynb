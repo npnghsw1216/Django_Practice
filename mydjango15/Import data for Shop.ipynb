{
 "cells": [
  {
   "cell_type": "code",
   "execution_count": 13,
   "id": "f283b3f0",
   "metadata": {},
   "outputs": [],
   "source": [
    "import os\n",
    "os.environ[\"DJANGO_SETTINGS_MODULE\"] = \"mydjango15.settings\"\n",
    "os.environ[\"DJANGO_ALLOW_ASYNC_UNSAFE\"] = \"true\"\n",
    "\n",
    "import django\n",
    "django.setup()"
   ]
  },
  {
   "cell_type": "code",
   "execution_count": 26,
   "id": "4225ed6b",
   "metadata": {},
   "outputs": [
    {
     "data": {
      "text/plain": [
       "[['name', 'description', 'address', 'coordinates', 'telephone'],\n",
       " ['파리바게뜨 대전 판안점',\n",
       "  '맛있당 별 다섯개',\n",
       "  '대전 동구 옥천로 178-1',\n",
       "  '36.3170396,127.4602147',\n",
       "  '010-1234-1234'],\n",
       " ['모두샤브뷔페',\n",
       "  '가성비가 좋고 학생들이 오면 좋을 것 같아요 평일 디너와 주말엔 육회가 나오고\\n남기지 않고 다먹으면 3천원 할인해줌! 음식 맛들은 전형적인 뷔페 맛이지만\\n가격이 착한게 장점이고 주차도 편리하다.\\n',\n",
       "  '대전 동구 은어송로 72 ',\n",
       "  '36.3069634,127.4579836',\n",
       "  '042-280-9339'],\n",
       " ['가미',\n",
       "  '회를 좋아하지 않아도 도전해 볼만한 맛집 강추 드립니다. 사장님도 친절하셔서\\n두배로 맛있는 기분입니다.\\n',\n",
       "  '대전 동구 옥천로 183',\n",
       "  '36.3178085,127.460441',\n",
       "  '042-271-9931'],\n",
       " ['대전밀면',\n",
       "  '물 밀연은 냉면 처럼 엄청 자극적이진 않지만 육수가 오래 우려서 그런지 깊은 맛\\n이나는 육수였답니다. 만두를 함께 곁들여 먹어도 맛있어요\\n',\n",
       "  '대전 동구 옥천로176번길 8',\n",
       "  '36.3165117,127.4592628',\n",
       "  '0507-1413-9007'],\n",
       " ['부여순대',\n",
       "  '배달은 안되는 곳이지만 순댓구이 맛있고 순대 접시는 양이 많고 내장과 머릿\\n고기를 적절하게 섞어주셔서 푸짐합니다.',\n",
       "  '대전 동구 동부로 5-3',\n",
       "  '36.3177117,127.4561853',\n",
       "  '042-282-3091'],\n",
       " ['명성만두샤브샤브전문점',\n",
       "  '쫀쫀하게 잘 익은 탱글탱글 칼국수와 김치의 콜라보로 마무리하고 볶음밥까지 \\n알차게 먹었습니다\\n',\n",
       "  '대전 동구 신기로 91',\n",
       "  '36.3103003,127.4559837',\n",
       "  '042-286-8088'],\n",
       " ['수타애반하다',\n",
       "  '탕수육은 정말 바삭바삭 쫀득쫀득 양도 많아 저녁까지 배가 엄청 불렀습니다.\\n다음에 또 가고 싶은 마음이 들 정도로 취저 간만에 맛있게 먹은 맛집입니다',\n",
       "  '대전 동구 옥천로 136-15',\n",
       "  '36.3161149,127.4554425',\n",
       "  '042-286-0335'],\n",
       " ['팀쿡 가오점',\n",
       "  '저희 엄마도 대전에서 오래 살아서 근처 맛집은 거의 다 꿰고 있고, \\n대청댐에 있는 맛집도 찾아가는 사람인데  팀쿡 새우로제파스타 너무 맛있어서 \\n다음에 또 오고 싶다고 말씀하셨어요!!! 가오동 찐 맛집입니당\\n\\n\\n',\n",
       "  '대전 동구 동구청로 66',\n",
       "  '36.3355641,127.447064',\n",
       "  '0507-1376-8003'],\n",
       " ['정현육가공직판장 식당',\n",
       "  '소고기를 먹었을 때 신선하고 맛있는 것을 느낄 수 있었고 매장 내부도\\n넓어서 다른 사람들과 거리두기하기도 좋았다 소고기와 어울리는 반찬\\n들도 깔끔해서 가족 단위로 가기 좋다.',\n",
       "  '대전 동구 판암로 17',\n",
       "  '36.3179108,127.4621331',\n",
       "  '042-282-8403'],\n",
       " ['준짜장 본점',\n",
       "  '준짜장의 탕수육이 맛있을 수밖에 없는게 튀김은 얇고 고기는 진짜\\n큼직하고 안이 가득 차 있어요 !! 짜장소스 속 고기도 그렇고 탕수육 고기도\\n 그렇고 ㅋㅋ 진짜 아낌없이 들어가서 사장님 가족분이 정육점을 하시나하는\\n생각이 들 정도였어요\\n\\n\\n',\n",
       "  '대전 동구 대전로448번길 57',\n",
       "  '36.3075363,127.4545501',\n",
       "  '042-271-2633']]"
      ]
     },
     "execution_count": 26,
     "metadata": {},
     "output_type": "execute_result"
    }
   ],
   "source": [
    "from openpyxl import load_workbook\n",
    "wb = load_workbook('mydjango15-data.xlsx')\n",
    "sheet = wb.active\n",
    "rows = [\n",
    "   [column.value for column in row]\n",
    "   for row in sheet\n",
    "]\n",
    "rows"
   ]
  },
  {
   "cell_type": "code",
   "execution_count": 27,
   "id": "e688c3ff",
   "metadata": {},
   "outputs": [
    {
     "data": {
      "text/plain": [
       "['name', 'description', 'address', 'coordinates', 'telephone']"
      ]
     },
     "execution_count": 27,
     "metadata": {},
     "output_type": "execute_result"
    }
   ],
   "source": [
    "column_names = rows[0]\n",
    "column_names"
   ]
  },
  {
   "cell_type": "code",
   "execution_count": 28,
   "id": "e6da0c07",
   "metadata": {},
   "outputs": [
    {
     "data": {
      "text/plain": [
       "[{'name': '파리바게뜨 대전 판안점',\n",
       "  'description': '맛있당 별 다섯개',\n",
       "  'address': '대전 동구 옥천로 178-1',\n",
       "  'telephone': '010-1234-1234',\n",
       "  'latitude': '36.3170396',\n",
       "  'longitude': '127.4602147'},\n",
       " {'name': '모두샤브뷔페',\n",
       "  'description': '가성비가 좋고 학생들이 오면 좋을 것 같아요 평일 디너와 주말엔 육회가 나오고\\n남기지 않고 다먹으면 3천원 할인해줌! 음식 맛들은 전형적인 뷔페 맛이지만\\n가격이 착한게 장점이고 주차도 편리하다.\\n',\n",
       "  'address': '대전 동구 은어송로 72 ',\n",
       "  'telephone': '042-280-9339',\n",
       "  'latitude': '36.3069634',\n",
       "  'longitude': '127.4579836'},\n",
       " {'name': '가미',\n",
       "  'description': '회를 좋아하지 않아도 도전해 볼만한 맛집 강추 드립니다. 사장님도 친절하셔서\\n두배로 맛있는 기분입니다.\\n',\n",
       "  'address': '대전 동구 옥천로 183',\n",
       "  'telephone': '042-271-9931',\n",
       "  'latitude': '36.3178085',\n",
       "  'longitude': '127.460441'},\n",
       " {'name': '대전밀면',\n",
       "  'description': '물 밀연은 냉면 처럼 엄청 자극적이진 않지만 육수가 오래 우려서 그런지 깊은 맛\\n이나는 육수였답니다. 만두를 함께 곁들여 먹어도 맛있어요\\n',\n",
       "  'address': '대전 동구 옥천로176번길 8',\n",
       "  'telephone': '0507-1413-9007',\n",
       "  'latitude': '36.3165117',\n",
       "  'longitude': '127.4592628'},\n",
       " {'name': '부여순대',\n",
       "  'description': '배달은 안되는 곳이지만 순댓구이 맛있고 순대 접시는 양이 많고 내장과 머릿\\n고기를 적절하게 섞어주셔서 푸짐합니다.',\n",
       "  'address': '대전 동구 동부로 5-3',\n",
       "  'telephone': '042-282-3091',\n",
       "  'latitude': '36.3177117',\n",
       "  'longitude': '127.4561853'},\n",
       " {'name': '명성만두샤브샤브전문점',\n",
       "  'description': '쫀쫀하게 잘 익은 탱글탱글 칼국수와 김치의 콜라보로 마무리하고 볶음밥까지 \\n알차게 먹었습니다\\n',\n",
       "  'address': '대전 동구 신기로 91',\n",
       "  'telephone': '042-286-8088',\n",
       "  'latitude': '36.3103003',\n",
       "  'longitude': '127.4559837'},\n",
       " {'name': '수타애반하다',\n",
       "  'description': '탕수육은 정말 바삭바삭 쫀득쫀득 양도 많아 저녁까지 배가 엄청 불렀습니다.\\n다음에 또 가고 싶은 마음이 들 정도로 취저 간만에 맛있게 먹은 맛집입니다',\n",
       "  'address': '대전 동구 옥천로 136-15',\n",
       "  'telephone': '042-286-0335',\n",
       "  'latitude': '36.3161149',\n",
       "  'longitude': '127.4554425'},\n",
       " {'name': '팀쿡 가오점',\n",
       "  'description': '저희 엄마도 대전에서 오래 살아서 근처 맛집은 거의 다 꿰고 있고, \\n대청댐에 있는 맛집도 찾아가는 사람인데  팀쿡 새우로제파스타 너무 맛있어서 \\n다음에 또 오고 싶다고 말씀하셨어요!!! 가오동 찐 맛집입니당\\n\\n\\n',\n",
       "  'address': '대전 동구 동구청로 66',\n",
       "  'telephone': '0507-1376-8003',\n",
       "  'latitude': '36.3355641',\n",
       "  'longitude': '127.447064'},\n",
       " {'name': '정현육가공직판장 식당',\n",
       "  'description': '소고기를 먹었을 때 신선하고 맛있는 것을 느낄 수 있었고 매장 내부도\\n넓어서 다른 사람들과 거리두기하기도 좋았다 소고기와 어울리는 반찬\\n들도 깔끔해서 가족 단위로 가기 좋다.',\n",
       "  'address': '대전 동구 판암로 17',\n",
       "  'telephone': '042-282-8403',\n",
       "  'latitude': '36.3179108',\n",
       "  'longitude': '127.4621331'},\n",
       " {'name': '준짜장 본점',\n",
       "  'description': '준짜장의 탕수육이 맛있을 수밖에 없는게 튀김은 얇고 고기는 진짜\\n큼직하고 안이 가득 차 있어요 !! 짜장소스 속 고기도 그렇고 탕수육 고기도\\n 그렇고 ㅋㅋ 진짜 아낌없이 들어가서 사장님 가족분이 정육점을 하시나하는\\n생각이 들 정도였어요\\n\\n\\n',\n",
       "  'address': '대전 동구 대전로448번길 57',\n",
       "  'telephone': '042-271-2633',\n",
       "  'latitude': '36.3075363',\n",
       "  'longitude': '127.4545501'}]"
      ]
     },
     "execution_count": 28,
     "metadata": {},
     "output_type": "execute_result"
    }
   ],
   "source": [
    "row_list = []\n",
    "\n",
    "for row in rows[1:]:\n",
    "    if row[0] is None:\n",
    "        break\n",
    "    row_dict = dict(zip(column_names, row))\n",
    "    latitude, longitude = row_dict[\"coordinates\"].split(\",\")\n",
    "    row_dict[\"latitude\"] = latitude\n",
    "    row_dict[\"longitude\"] = longitude\n",
    "    del row_dict['coordinates']\n",
    "    row_list.append(row_dict)\n",
    "\n",
    "row_list"
   ]
  },
  {
   "cell_type": "code",
   "execution_count": 29,
   "id": "fb22c38b",
   "metadata": {},
   "outputs": [],
   "source": [
    "from delicious.models import Shop"
   ]
  },
  {
   "cell_type": "code",
   "execution_count": 30,
   "id": "4cbff1b2",
   "metadata": {
    "scrolled": true
   },
   "outputs": [
    {
     "name": "stdout",
     "output_type": "stream",
     "text": [
      "Shop object (1)\n",
      "Shop object (2)\n",
      "Shop object (3)\n",
      "Shop object (4)\n",
      "Shop object (5)\n",
      "Shop object (6)\n",
      "Shop object (7)\n",
      "Shop object (8)\n",
      "Shop object (9)\n",
      "Shop object (10)\n"
     ]
    }
   ],
   "source": [
    "for row_dict in row_list:\n",
    "    shop = Shop(**row_dict)\n",
    "    shop.save()\n",
    "    print(shop)"
   ]
  },
  {
   "cell_type": "code",
   "execution_count": null,
   "id": "85f59051",
   "metadata": {},
   "outputs": [],
   "source": []
  }
 ],
 "metadata": {
  "kernelspec": {
   "display_name": "Python 3 (ipykernel)",
   "language": "python",
   "name": "python3"
  },
  "language_info": {
   "codemirror_mode": {
    "name": "ipython",
    "version": 3
   },
   "file_extension": ".py",
   "mimetype": "text/x-python",
   "name": "python",
   "nbconvert_exporter": "python",
   "pygments_lexer": "ipython3",
   "version": "3.10.0"
  }
 },
 "nbformat": 4,
 "nbformat_minor": 5
}
